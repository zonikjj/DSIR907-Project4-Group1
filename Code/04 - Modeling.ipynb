{
 "cells": [
  {
   "cell_type": "markdown",
   "id": "6c1c03fc-1f7b-4ae3-b135-556626f28057",
   "metadata": {},
   "source": [
    "# Imports"
   ]
  },
  {
   "cell_type": "code",
   "execution_count": 1,
   "id": "3b844fe3-2297-43b7-8c85-876378346521",
   "metadata": {},
   "outputs": [],
   "source": [
    "import matplotlib.pyplot as plt\n",
    "import seaborn as sns\n",
    "import pandas as pd\n",
    "import numpy as np\n",
    "\n",
    "from nltk.stem import PorterStemmer, WordNetLemmatizer\n",
    "from nltk.tokenize import RegexpTokenizer\n",
    "from nltk.corpus import stopwords\n",
    "from sklearn.feature_extraction.text import CountVectorizer, TfidfVectorizer\n",
    "\n",
    "from sklearn.model_selection import train_test_split, GridSearchCV\n",
    "from sklearn.linear_model import LogisticRegression, SGDClassifier\n",
    "from sklearn.metrics import mean_squared_error,  ConfusionMatrixDisplay, roc_auc_score, precision_score, confusion_matrix, accuracy_score\n",
    "from sklearn.compose import make_column_transformer, make_column_selector\n",
    "from sklearn.neighbors import  KNeighborsClassifier\n",
    "from sklearn.pipeline import make_pipeline\n",
    "from sklearn.preprocessing import StandardScaler\n",
    "from sklearn.tree import DecisionTreeRegressor, plot_tree, DecisionTreeClassifier\n",
    "from sklearn.ensemble import BaggingClassifier, RandomForestClassifier, ExtraTreesClassifier, VotingClassifier\n",
    "from sklearn.naive_bayes import MultinomialNB\n",
    "\n",
    "from sklearn import set_config\n",
    "set_config(display = 'diagram')\n",
    "\n",
    "random_state = 7\n",
    "max_features= 1000\n",
    "max_iter = 2000"
   ]
  },
  {
   "cell_type": "markdown",
   "id": "7cfa6ec3-94b7-46f2-a2d6-9a2ca8a9019e",
   "metadata": {},
   "source": [
    "----\n",
    "### Reading in the Data"
   ]
  },
  {
   "cell_type": "code",
   "execution_count": 2,
   "id": "13c1d1e9-c540-483b-bb13-babd4ec35084",
   "metadata": {},
   "outputs": [
    {
     "data": {
      "text/html": [
       "<div>\n",
       "<style scoped>\n",
       "    .dataframe tbody tr th:only-of-type {\n",
       "        vertical-align: middle;\n",
       "    }\n",
       "\n",
       "    .dataframe tbody tr th {\n",
       "        vertical-align: top;\n",
       "    }\n",
       "\n",
       "    .dataframe thead th {\n",
       "        text-align: right;\n",
       "    }\n",
       "</style>\n",
       "<table border=\"1\" class=\"dataframe\">\n",
       "  <thead>\n",
       "    <tr style=\"text-align: right;\">\n",
       "      <th></th>\n",
       "      <th>speaker</th>\n",
       "      <th>text</th>\n",
       "      <th>date</th>\n",
       "      <th>party</th>\n",
       "      <th>tokens</th>\n",
       "      <th>polarity</th>\n",
       "      <th>subjectivity</th>\n",
       "    </tr>\n",
       "  </thead>\n",
       "  <tbody>\n",
       "    <tr>\n",
       "      <th>0</th>\n",
       "      <td>PENCE</td>\n",
       "      <td>Thank you.,</td>\n",
       "      <td>September 29 2020</td>\n",
       "      <td>Republican</td>\n",
       "      <td>['you', 'thank']</td>\n",
       "      <td>0.000000</td>\n",
       "      <td>0.000000</td>\n",
       "    </tr>\n",
       "    <tr>\n",
       "      <th>1</th>\n",
       "      <td>HARRIS</td>\n",
       "      <td>Thank you Susan. Well, the American people ha...</td>\n",
       "      <td>September 29 2020</td>\n",
       "      <td>Democrat</td>\n",
       "      <td>['our', 'what', 'best', 'informed', 'be', 'pre...</td>\n",
       "      <td>0.169603</td>\n",
       "      <td>0.348862</td>\n",
       "    </tr>\n",
       "    <tr>\n",
       "      <th>2</th>\n",
       "      <td>PENCE</td>\n",
       "      <td>Susan thank you. And I want to thank the Comm...</td>\n",
       "      <td>September 29 2020</td>\n",
       "      <td>Republican</td>\n",
       "      <td>['our', 'since', 'needed', 'what', 'resources'...</td>\n",
       "      <td>0.111378</td>\n",
       "      <td>0.423008</td>\n",
       "    </tr>\n",
       "  </tbody>\n",
       "</table>\n",
       "</div>"
      ],
      "text/plain": [
       "  speaker                                               text  \\\n",
       "0   PENCE                                        Thank you.,   \n",
       "1  HARRIS   Thank you Susan. Well, the American people ha...   \n",
       "2   PENCE   Susan thank you. And I want to thank the Comm...   \n",
       "\n",
       "                date       party  \\\n",
       "0  September 29 2020  Republican   \n",
       "1  September 29 2020    Democrat   \n",
       "2  September 29 2020  Republican   \n",
       "\n",
       "                                              tokens  polarity  subjectivity  \n",
       "0                                   ['you', 'thank']  0.000000      0.000000  \n",
       "1  ['our', 'what', 'best', 'informed', 'be', 'pre...  0.169603      0.348862  \n",
       "2  ['our', 'since', 'needed', 'what', 'resources'...  0.111378      0.423008  "
      ]
     },
     "execution_count": 2,
     "metadata": {},
     "output_type": "execute_result"
    }
   ],
   "source": [
    "debate_df = pd.read_csv(\"../Data/debate_filtered.csv\")\n",
    "debate_df.head(3)"
   ]
  },
  {
   "cell_type": "markdown",
   "id": "b1828648-e81a-44ab-9523-a9beb8ec428e",
   "metadata": {},
   "source": [
    "----\n",
    "### Functions"
   ]
  },
  {
   "cell_type": "code",
   "execution_count": 3,
   "id": "9a035ed9-7548-4326-af3b-07f607a4358e",
   "metadata": {},
   "outputs": [],
   "source": [
    "# function to automate fitting training data to model then scoring it\n",
    "def pipes(vectorizers, classifiers, X, y):\n",
    "    X_train, X_test, y_train, y_test = train_test_split(X, y, random_state=7)\n",
    "    for i in vectorizers:\n",
    "        for j in classifiers:\n",
    "            pipe = make_pipeline(\n",
    "                i,\n",
    "                j\n",
    "            )\n",
    "            pipe.fit(X_train, y_train)\n",
    "            print(f'{i} and {j} : {(pipe.score(X_test, y_test)).round(5)}')\n",
    "    return"
   ]
  },
  {
   "cell_type": "code",
   "execution_count": 4,
   "id": "9d6087be-5a13-4855-bbfa-fce369dd6a5b",
   "metadata": {},
   "outputs": [],
   "source": [
    "# function to lemmatize the text\n",
    "def lem_sent(sentence):\n",
    "    my_tokenizer = RegexpTokenizer(\"[\\w']+|\\$[\\d\\.]+\")\n",
    "    lemmatizer = WordNetLemmatizer()\n",
    "    \n",
    "    words = my_tokenizer.tokenize(sentence.lower())\n",
    "    lem = [lemmatizer.lemmatize(i) for i in words]\n",
    "    \n",
    "    return \" \".join(lem)\n",
    "debate_df['lemmas'] = debate_df['text'].map(lem_sent)"
   ]
  },
  {
   "cell_type": "code",
   "execution_count": 5,
   "id": "e9454488-6524-4361-af96-d0c7a9cab65d",
   "metadata": {},
   "outputs": [],
   "source": [
    "# function to stem the text\n",
    "def stem_sent(sentence):\n",
    "    my_tokenizer = RegexpTokenizer(\"[\\w']+|\\$[\\d\\.]+\")\n",
    "    p_stemmer = PorterStemmer()\n",
    "    \n",
    "    words = my_tokenizer.tokenize(sentence.lower())\n",
    "    pstem = [p_stemmer.stem(i) for i in words]\n",
    "    \n",
    "    return \" \".join(pstem)\n",
    "debate_df['stems'] = debate_df['text'].map(stem_sent)"
   ]
  },
  {
   "cell_type": "code",
   "execution_count": 6,
   "id": "6bc7f1d2-fdba-4962-a99f-b0d5354ce2ec",
   "metadata": {},
   "outputs": [
    {
     "data": {
      "text/html": [
       "<div>\n",
       "<style scoped>\n",
       "    .dataframe tbody tr th:only-of-type {\n",
       "        vertical-align: middle;\n",
       "    }\n",
       "\n",
       "    .dataframe tbody tr th {\n",
       "        vertical-align: top;\n",
       "    }\n",
       "\n",
       "    .dataframe thead th {\n",
       "        text-align: right;\n",
       "    }\n",
       "</style>\n",
       "<table border=\"1\" class=\"dataframe\">\n",
       "  <thead>\n",
       "    <tr style=\"text-align: right;\">\n",
       "      <th></th>\n",
       "      <th>speaker</th>\n",
       "      <th>text</th>\n",
       "      <th>date</th>\n",
       "      <th>party</th>\n",
       "      <th>tokens</th>\n",
       "      <th>polarity</th>\n",
       "      <th>subjectivity</th>\n",
       "      <th>lemmas</th>\n",
       "      <th>stems</th>\n",
       "    </tr>\n",
       "  </thead>\n",
       "  <tbody>\n",
       "    <tr>\n",
       "      <th>0</th>\n",
       "      <td>PENCE</td>\n",
       "      <td>Thank you.,</td>\n",
       "      <td>September 29 2020</td>\n",
       "      <td>Republican</td>\n",
       "      <td>['you', 'thank']</td>\n",
       "      <td>0.000000</td>\n",
       "      <td>0.000000</td>\n",
       "      <td>thank you</td>\n",
       "      <td>thank you</td>\n",
       "    </tr>\n",
       "    <tr>\n",
       "      <th>1</th>\n",
       "      <td>HARRIS</td>\n",
       "      <td>Thank you Susan. Well, the American people ha...</td>\n",
       "      <td>September 29 2020</td>\n",
       "      <td>Democrat</td>\n",
       "      <td>['our', 'what', 'best', 'informed', 'be', 'pre...</td>\n",
       "      <td>0.169603</td>\n",
       "      <td>0.348862</td>\n",
       "      <td>thank you susan well the american people have ...</td>\n",
       "      <td>thank you susan well the american peopl have w...</td>\n",
       "    </tr>\n",
       "    <tr>\n",
       "      <th>2</th>\n",
       "      <td>PENCE</td>\n",
       "      <td>Susan thank you. And I want to thank the Comm...</td>\n",
       "      <td>September 29 2020</td>\n",
       "      <td>Republican</td>\n",
       "      <td>['our', 'since', 'needed', 'what', 'resources'...</td>\n",
       "      <td>0.111378</td>\n",
       "      <td>0.423008</td>\n",
       "      <td>susan thank you and i want to thank the commis...</td>\n",
       "      <td>susan thank you and i want to thank the commis...</td>\n",
       "    </tr>\n",
       "  </tbody>\n",
       "</table>\n",
       "</div>"
      ],
      "text/plain": [
       "  speaker                                               text  \\\n",
       "0   PENCE                                        Thank you.,   \n",
       "1  HARRIS   Thank you Susan. Well, the American people ha...   \n",
       "2   PENCE   Susan thank you. And I want to thank the Comm...   \n",
       "\n",
       "                date       party  \\\n",
       "0  September 29 2020  Republican   \n",
       "1  September 29 2020    Democrat   \n",
       "2  September 29 2020  Republican   \n",
       "\n",
       "                                              tokens  polarity  subjectivity  \\\n",
       "0                                   ['you', 'thank']  0.000000      0.000000   \n",
       "1  ['our', 'what', 'best', 'informed', 'be', 'pre...  0.169603      0.348862   \n",
       "2  ['our', 'since', 'needed', 'what', 'resources'...  0.111378      0.423008   \n",
       "\n",
       "                                              lemmas  \\\n",
       "0                                          thank you   \n",
       "1  thank you susan well the american people have ...   \n",
       "2  susan thank you and i want to thank the commis...   \n",
       "\n",
       "                                               stems  \n",
       "0                                          thank you  \n",
       "1  thank you susan well the american peopl have w...  \n",
       "2  susan thank you and i want to thank the commis...  "
      ]
     },
     "execution_count": 6,
     "metadata": {},
     "output_type": "execute_result"
    }
   ],
   "source": [
    "debate_df.head(3)"
   ]
  },
  {
   "cell_type": "markdown",
   "id": "ace8efe3-5a80-4c55-b7da-732becbcb19f",
   "metadata": {},
   "source": [
    "----\n",
    "## Baseline Model"
   ]
  },
  {
   "cell_type": "code",
   "execution_count": 7,
   "id": "6b2d1e7c-ac11-4b78-849e-10b65b13bc2d",
   "metadata": {},
   "outputs": [
    {
     "data": {
      "text/plain": [
       "Republican    0.547623\n",
       "Democrat      0.452377\n",
       "Name: party, dtype: float64"
      ]
     },
     "execution_count": 7,
     "metadata": {},
     "output_type": "execute_result"
    }
   ],
   "source": [
    "debate_df[\"party\"].value_counts(normalize=True)"
   ]
  },
  {
   "cell_type": "markdown",
   "id": "9aa958f0-987a-4c57-a129-34f06bd85a95",
   "metadata": {},
   "source": [
    "* The baseline score is 54.7%"
   ]
  },
  {
   "cell_type": "markdown",
   "id": "069d284c-6b15-4330-bd80-d5c6393f3cc1",
   "metadata": {},
   "source": [
    "-------\n",
    "### Train/Test multiple models with normal, lemmatized, and stemmed text "
   ]
  },
  {
   "cell_type": "code",
   "execution_count": 8,
   "id": "c303d722-33ad-49b2-8827-33fb612fa825",
   "metadata": {},
   "outputs": [],
   "source": [
    "vectorizers = [CountVectorizer( ),\n",
    "               TfidfVectorizer()]\n",
    "\n",
    "classifiers = [MultinomialNB(),\n",
    "               LogisticRegression(),\n",
    "               BaggingClassifier(),\n",
    "               RandomForestClassifier(),\n",
    "               ExtraTreesClassifier(),\n",
    "               KNeighborsClassifier(),\n",
    "               SGDClassifier()]"
   ]
  },
  {
   "cell_type": "markdown",
   "id": "2e34f806-42e5-4e3a-9cc5-0fc536a82059",
   "metadata": {},
   "source": [
    "## Normal Text"
   ]
  },
  {
   "cell_type": "code",
   "execution_count": 9,
   "id": "ada29a27-80bb-4f1d-90fd-bc27462cee3d",
   "metadata": {
    "tags": []
   },
   "outputs": [
    {
     "name": "stdout",
     "output_type": "stream",
     "text": [
      "CountVectorizer() and MultinomialNB() : 0.7108\n"
     ]
    },
    {
     "name": "stderr",
     "output_type": "stream",
     "text": [
      "C:\\Users\\15619\\anaconda3\\lib\\site-packages\\sklearn\\linear_model\\_logistic.py:814: ConvergenceWarning: lbfgs failed to converge (status=1):\n",
      "STOP: TOTAL NO. of ITERATIONS REACHED LIMIT.\n",
      "\n",
      "Increase the number of iterations (max_iter) or scale the data as shown in:\n",
      "    https://scikit-learn.org/stable/modules/preprocessing.html\n",
      "Please also refer to the documentation for alternative solver options:\n",
      "    https://scikit-learn.org/stable/modules/linear_model.html#logistic-regression\n",
      "  n_iter_i = _check_optimize_result(\n"
     ]
    },
    {
     "name": "stdout",
     "output_type": "stream",
     "text": [
      "CountVectorizer() and LogisticRegression() : 0.69379\n",
      "CountVectorizer() and BaggingClassifier() : 0.64349\n",
      "CountVectorizer() and RandomForestClassifier() : 0.68491\n",
      "CountVectorizer() and ExtraTreesClassifier() : 0.70414\n",
      "CountVectorizer() and KNeighborsClassifier() : 0.55917\n",
      "CountVectorizer() and SGDClassifier() : 0.67012\n",
      "TfidfVectorizer() and MultinomialNB() : 0.64423\n",
      "TfidfVectorizer() and LogisticRegression() : 0.69453\n",
      "TfidfVectorizer() and BaggingClassifier() : 0.64793\n",
      "TfidfVectorizer() and RandomForestClassifier() : 0.69749\n",
      "TfidfVectorizer() and ExtraTreesClassifier() : 0.69749\n",
      "TfidfVectorizer() and KNeighborsClassifier() : 0.67678\n",
      "TfidfVectorizer() and SGDClassifier() : 0.7034\n"
     ]
    }
   ],
   "source": [
    "pipes(vectorizers, classifiers, debate_df[\"text\"] , debate_df[\"party\"])"
   ]
  },
  {
   "cell_type": "markdown",
   "id": "95eb7a5a-d740-4377-a52f-5e2f23f3ad69",
   "metadata": {},
   "source": [
    "--------\n",
    "## Lemmatized Text"
   ]
  },
  {
   "cell_type": "code",
   "execution_count": 10,
   "id": "4ca6fe92-acc6-4e86-aa6e-5e5d35dceccc",
   "metadata": {},
   "outputs": [
    {
     "name": "stdout",
     "output_type": "stream",
     "text": [
      "CountVectorizer() and MultinomialNB() : 0.7034\n"
     ]
    },
    {
     "name": "stderr",
     "output_type": "stream",
     "text": [
      "C:\\Users\\15619\\anaconda3\\lib\\site-packages\\sklearn\\linear_model\\_logistic.py:814: ConvergenceWarning: lbfgs failed to converge (status=1):\n",
      "STOP: TOTAL NO. of ITERATIONS REACHED LIMIT.\n",
      "\n",
      "Increase the number of iterations (max_iter) or scale the data as shown in:\n",
      "    https://scikit-learn.org/stable/modules/preprocessing.html\n",
      "Please also refer to the documentation for alternative solver options:\n",
      "    https://scikit-learn.org/stable/modules/linear_model.html#logistic-regression\n",
      "  n_iter_i = _check_optimize_result(\n"
     ]
    },
    {
     "name": "stdout",
     "output_type": "stream",
     "text": [
      "CountVectorizer() and LogisticRegression() : 0.69453\n",
      "CountVectorizer() and BaggingClassifier() : 0.63979\n",
      "CountVectorizer() and RandomForestClassifier() : 0.69009\n",
      "CountVectorizer() and ExtraTreesClassifier() : 0.70118\n",
      "CountVectorizer() and KNeighborsClassifier() : 0.56805\n",
      "CountVectorizer() and SGDClassifier() : 0.69749\n",
      "TfidfVectorizer() and MultinomialNB() : 0.64719\n",
      "TfidfVectorizer() and LogisticRegression() : 0.69601\n",
      "TfidfVectorizer() and BaggingClassifier() : 0.64349\n",
      "TfidfVectorizer() and RandomForestClassifier() : 0.70488\n",
      "TfidfVectorizer() and ExtraTreesClassifier() : 0.70118\n",
      "TfidfVectorizer() and KNeighborsClassifier() : 0.67604\n",
      "TfidfVectorizer() and SGDClassifier() : 0.7071\n"
     ]
    }
   ],
   "source": [
    "pipes(vectorizers, classifiers, debate_df[\"lemmas\"] , debate_df[\"party\"])"
   ]
  },
  {
   "cell_type": "markdown",
   "id": "20f3c4b2-6f78-4eac-a7d1-2e71cf332adc",
   "metadata": {},
   "source": [
    "\n",
    "-------\n",
    "## Stemmed Text"
   ]
  },
  {
   "cell_type": "code",
   "execution_count": 11,
   "id": "0d793450-3f3d-4e88-bef2-c7d3b2588350",
   "metadata": {},
   "outputs": [
    {
     "name": "stdout",
     "output_type": "stream",
     "text": [
      "CountVectorizer() and MultinomialNB() : 0.70118\n"
     ]
    },
    {
     "name": "stderr",
     "output_type": "stream",
     "text": [
      "C:\\Users\\15619\\anaconda3\\lib\\site-packages\\sklearn\\linear_model\\_logistic.py:814: ConvergenceWarning: lbfgs failed to converge (status=1):\n",
      "STOP: TOTAL NO. of ITERATIONS REACHED LIMIT.\n",
      "\n",
      "Increase the number of iterations (max_iter) or scale the data as shown in:\n",
      "    https://scikit-learn.org/stable/modules/preprocessing.html\n",
      "Please also refer to the documentation for alternative solver options:\n",
      "    https://scikit-learn.org/stable/modules/linear_model.html#logistic-regression\n",
      "  n_iter_i = _check_optimize_result(\n"
     ]
    },
    {
     "name": "stdout",
     "output_type": "stream",
     "text": [
      "CountVectorizer() and LogisticRegression() : 0.70636\n",
      "CountVectorizer() and BaggingClassifier() : 0.64793\n",
      "CountVectorizer() and RandomForestClassifier() : 0.69675\n",
      "CountVectorizer() and ExtraTreesClassifier() : 0.70414\n",
      "CountVectorizer() and KNeighborsClassifier() : 0.55695\n",
      "CountVectorizer() and SGDClassifier() : 0.69601\n",
      "TfidfVectorizer() and MultinomialNB() : 0.6568\n",
      "TfidfVectorizer() and LogisticRegression() : 0.7108\n",
      "TfidfVectorizer() and BaggingClassifier() : 0.63683\n",
      "TfidfVectorizer() and RandomForestClassifier() : 0.68269\n",
      "TfidfVectorizer() and ExtraTreesClassifier() : 0.7108\n",
      "TfidfVectorizer() and KNeighborsClassifier() : 0.67899\n",
      "TfidfVectorizer() and SGDClassifier() : 0.69896\n"
     ]
    }
   ],
   "source": [
    "pipes(vectorizers, classifiers, debate_df[\"stems\"] , debate_df[\"party\"])"
   ]
  },
  {
   "cell_type": "markdown",
   "id": "3f18f82f-a128-4af7-b032-0a40646e448c",
   "metadata": {},
   "source": [
    "* The best performing model is the Logistic Regressioon classifier and TfidfVectorizer using stemmed text\n",
    "----\n",
    "## Gridsearching the Best Models"
   ]
  },
  {
   "cell_type": "code",
   "execution_count": 14,
   "id": "45c586ab-641b-4559-9291-c9cc8445223b",
   "metadata": {},
   "outputs": [
    {
     "data": {
      "text/plain": [
       "0.7034023668639053"
      ]
     },
     "execution_count": 14,
     "metadata": {},
     "output_type": "execute_result"
    }
   ],
   "source": [
    "X_train, X_test, y_train, y_test = train_test_split(debate_df[\"stems\"], debate_df[\"party\"])\n",
    "pipe = make_pipeline(\n",
    "    TfidfVectorizer(),\n",
    "    LogisticRegression()   \n",
    ")\n",
    "pipe.fit(X_train, y_train)\n",
    "pipe.score(X_test, y_test)"
   ]
  },
  {
   "cell_type": "code",
   "execution_count": 28,
   "id": "41152231-be47-4887-a2d8-c041b401b4c5",
   "metadata": {},
   "outputs": [
    {
     "data": {
      "text/plain": [
       "0.7433431952662722"
      ]
     },
     "execution_count": 28,
     "metadata": {},
     "output_type": "execute_result"
    }
   ],
   "source": [
    "#takes a  few minutes to run\n",
    "params = {\n",
    "    'tfidfvectorizer__binary': [False, True], \n",
    "    'tfidfvectorizer__ngram_range': [(1, 1),(1, 2),(1, 3), (1, 4)],\n",
    "    'logisticregression__C': [1.5, 1.7, 2],\n",
    "    'logisticregression__fit_intercept': [True,False]\n",
    "}\n",
    "gs = GridSearchCV(pipe, params, n_jobs=-1)\n",
    "gs.fit(X_train, y_train)\n",
    "gs.score(X_test, y_test)"
   ]
  },
  {
   "cell_type": "code",
   "execution_count": 29,
   "id": "8f444ac7-deae-4743-a6b5-45d202a5a899",
   "metadata": {},
   "outputs": [
    {
     "data": {
      "text/plain": [
       "{'logisticregression__C': 2,\n",
       " 'logisticregression__fit_intercept': True,\n",
       " 'tfidfvectorizer__binary': True,\n",
       " 'tfidfvectorizer__ngram_range': (1, 4)}"
      ]
     },
     "execution_count": 29,
     "metadata": {},
     "output_type": "execute_result"
    }
   ],
   "source": [
    "gs.best_params_"
   ]
  },
  {
   "cell_type": "markdown",
   "id": "9d123015-7a08-4a03-87fa-948c6004de11",
   "metadata": {},
   "source": [
    "----\n",
    "## Confusion Matrix"
   ]
  },
  {
   "cell_type": "code",
   "execution_count": 33,
   "id": "94f7414e-1a26-41d0-b028-adbef6b9d683",
   "metadata": {},
   "outputs": [
    {
     "data": {
      "image/png": "[encoded data removed]",
      "text/plain": [
       "<Figure size 432x288 with 2 Axes>"
      ]
     },
     "metadata": {
      "needs_background": "light"
     },
     "output_type": "display_data"
    }
   ],
   "source": [
    "# Before Gridsearch\n",
    "ConfusionMatrixDisplay.from_estimator(pipe, X_test, y_test);"
   ]
  },
  {
   "cell_type": "code",
   "execution_count": 30,
   "id": "468cff24-e1ed-4336-be69-5265cae9f487",
   "metadata": {},
   "outputs": [
    {
     "data": {
      "image/png": "[encoded data removed]",
      "text/plain": [
       "<Figure size 432x288 with 2 Axes>"
      ]
     },
     "metadata": {
      "needs_background": "light"
     },
     "output_type": "display_data"
    }
   ],
   "source": [
    "#After Gridseach\n",
    "ConfusionMatrixDisplay.from_estimator(gs, X_test, y_test);"
   ]
  },
  {
   "cell_type": "code",
   "execution_count": 31,
   "id": "0c700b01-5076-4614-b095-70722aa2a17b",
   "metadata": {},
   "outputs": [
    {
     "data": {
      "text/plain": [
       "'\\n*REMOVE BEFORE SUBMISSION*\\nUpdate the  notebook if I come up with a better model\\nFix convergence warnings\\nfeature engineering\\ntry more ngrams for gs\\n'"
      ]
     },
     "execution_count": 31,
     "metadata": {},
     "output_type": "execute_result"
    }
   ],
   "source": [
    "'''\n",
    "*REMOVE BEFORE SUBMISSION*\n",
    "Update the  notebook if I come up with a better model\n",
    "Fix convergence warnings\n",
    "feature engineering\n",
    "try more ngrams for gs\n",
    "'''"
   ]
  }
 ],
 "metadata": {
  "kernelspec": {
   "display_name": "Python 3",
   "language": "python",
   "name": "python3"
  },
  "language_info": {
   "codemirror_mode": {
    "name": "ipython",
    "version": 3
   },
   "file_extension": ".py",
   "mimetype": "text/x-python",
   "name": "python",
   "nbconvert_exporter": "python",
   "pygments_lexer": "ipython3",
   "version": "3.8.8"
  }
 },
 "nbformat": 4,
 "nbformat_minor": 5
}
