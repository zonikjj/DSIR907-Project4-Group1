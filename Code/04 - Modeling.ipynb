{
 "cells": [
  {
   "cell_type": "markdown",
   "id": "6c1c03fc-1f7b-4ae3-b135-556626f28057",
   "metadata": {},
   "source": [
    "# Imports"
   ]
  },
  {
   "cell_type": "code",
   "execution_count": 1,
   "id": "3b844fe3-2297-43b7-8c85-876378346521",
   "metadata": {},
   "outputs": [],
   "source": [
    "import matplotlib.pyplot as plt\n",
    "import seaborn as sns\n",
    "import pandas as pd\n",
    "import numpy as np\n",
    "\n",
    "from nltk.stem import PorterStemmer, WordNetLemmatizer\n",
    "from nltk.tokenize import RegexpTokenizer\n",
    "from nltk.corpus import stopwords\n",
    "from sklearn.feature_extraction.text import CountVectorizer, TfidfVectorizer\n",
    "\n",
    "from sklearn.model_selection import train_test_split, GridSearchCV\n",
    "from sklearn.linear_model import LogisticRegression, SGDClassifier\n",
    "from sklearn.metrics import mean_squared_error,  ConfusionMatrixDisplay, roc_auc_score, precision_score, confusion_matrix, accuracy_score\n",
    "from sklearn.compose import make_column_transformer, make_column_selector\n",
    "from sklearn.neighbors import  KNeighborsClassifier\n",
    "from sklearn.pipeline import make_pipeline\n",
    "from sklearn.preprocessing import StandardScaler\n",
    "from sklearn.tree import DecisionTreeRegressor, plot_tree, DecisionTreeClassifier\n",
    "from sklearn.ensemble import BaggingClassifier, RandomForestClassifier, ExtraTreesClassifier, VotingClassifier\n",
    "from sklearn.naive_bayes import MultinomialNB\n",
    "\n",
    "from sklearn import set_config\n",
    "set_config(display = 'diagram')\n",
    "\n",
    "\n",
    "import warnings\n",
    "warnings.filterwarnings('ignore')\n",
    "\n",
    "random_state = 7\n",
    "max_features= 1000\n",
    "max_iter = 2000"
   ]
  },
  {
   "cell_type": "markdown",
   "id": "7cfa6ec3-94b7-46f2-a2d6-9a2ca8a9019e",
   "metadata": {},
   "source": [
    "----\n",
    "### Reading in the Data"
   ]
  },
  {
   "cell_type": "code",
   "execution_count": 2,
   "id": "13c1d1e9-c540-483b-bb13-babd4ec35084",
   "metadata": {},
   "outputs": [
    {
     "data": {
      "text/html": [
       "<div>\n",
       "<style scoped>\n",
       "    .dataframe tbody tr th:only-of-type {\n",
       "        vertical-align: middle;\n",
       "    }\n",
       "\n",
       "    .dataframe tbody tr th {\n",
       "        vertical-align: top;\n",
       "    }\n",
       "\n",
       "    .dataframe thead th {\n",
       "        text-align: right;\n",
       "    }\n",
       "</style>\n",
       "<table border=\"1\" class=\"dataframe\">\n",
       "  <thead>\n",
       "    <tr style=\"text-align: right;\">\n",
       "      <th></th>\n",
       "      <th>speaker</th>\n",
       "      <th>text</th>\n",
       "      <th>date</th>\n",
       "      <th>party</th>\n",
       "      <th>tokens</th>\n",
       "      <th>polarity</th>\n",
       "      <th>subjectivity</th>\n",
       "    </tr>\n",
       "  </thead>\n",
       "  <tbody>\n",
       "    <tr>\n",
       "      <th>0</th>\n",
       "      <td>PENCE</td>\n",
       "      <td>Thank you.,</td>\n",
       "      <td>September 29 2020</td>\n",
       "      <td>Republican</td>\n",
       "      <td>['you', 'thank']</td>\n",
       "      <td>0.000000</td>\n",
       "      <td>0.000000</td>\n",
       "    </tr>\n",
       "    <tr>\n",
       "      <th>1</th>\n",
       "      <td>HARRIS</td>\n",
       "      <td>Thank you Susan. Well, the American people ha...</td>\n",
       "      <td>September 29 2020</td>\n",
       "      <td>Democrat</td>\n",
       "      <td>['our', 'what', 'best', 'informed', 'be', 'pre...</td>\n",
       "      <td>0.169603</td>\n",
       "      <td>0.348862</td>\n",
       "    </tr>\n",
       "    <tr>\n",
       "      <th>2</th>\n",
       "      <td>PENCE</td>\n",
       "      <td>Susan thank you. And I want to thank the Comm...</td>\n",
       "      <td>September 29 2020</td>\n",
       "      <td>Republican</td>\n",
       "      <td>['our', 'since', 'needed', 'what', 'resources'...</td>\n",
       "      <td>0.111378</td>\n",
       "      <td>0.423008</td>\n",
       "    </tr>\n",
       "  </tbody>\n",
       "</table>\n",
       "</div>"
      ],
      "text/plain": [
       "  speaker                                               text  \\\n",
       "0   PENCE                                        Thank you.,   \n",
       "1  HARRIS   Thank you Susan. Well, the American people ha...   \n",
       "2   PENCE   Susan thank you. And I want to thank the Comm...   \n",
       "\n",
       "                date       party  \\\n",
       "0  September 29 2020  Republican   \n",
       "1  September 29 2020    Democrat   \n",
       "2  September 29 2020  Republican   \n",
       "\n",
       "                                              tokens  polarity  subjectivity  \n",
       "0                                   ['you', 'thank']  0.000000      0.000000  \n",
       "1  ['our', 'what', 'best', 'informed', 'be', 'pre...  0.169603      0.348862  \n",
       "2  ['our', 'since', 'needed', 'what', 'resources'...  0.111378      0.423008  "
      ]
     },
     "execution_count": 2,
     "metadata": {},
     "output_type": "execute_result"
    }
   ],
   "source": [
    "debate_df = pd.read_csv(\"../Data/debate_filtered.csv\")\n",
    "debate_df.head(3)"
   ]
  },
  {
   "cell_type": "markdown",
   "id": "b1828648-e81a-44ab-9523-a9beb8ec428e",
   "metadata": {},
   "source": [
    "----\n",
    "### Functions"
   ]
  },
  {
   "cell_type": "code",
   "execution_count": 3,
   "id": "9a035ed9-7548-4326-af3b-07f607a4358e",
   "metadata": {},
   "outputs": [],
   "source": [
    "# function to automate fitting training data to model then scoring it\n",
    "def pipes(vectorizers, classifiers, X, y):\n",
    "    X_train, X_test, y_train, y_test = train_test_split(X, y, random_state=7)\n",
    "    for i in vectorizers:\n",
    "        for j in classifiers:\n",
    "            pipe = make_pipeline(\n",
    "                i,\n",
    "                j\n",
    "            )\n",
    "            pipe.fit(X_train, y_train)\n",
    "            print(f'{i} and {j} : {(pipe.score(X_test, y_test)).round(5)}')\n",
    "    return"
   ]
  },
  {
   "cell_type": "code",
   "execution_count": 4,
   "id": "9d6087be-5a13-4855-bbfa-fce369dd6a5b",
   "metadata": {},
   "outputs": [],
   "source": [
    "# function to lemmatize the text\n",
    "def lem_sent(sentence):\n",
    "    my_tokenizer = RegexpTokenizer(\"[\\w']+|\\$[\\d\\.]+\")\n",
    "    lemmatizer = WordNetLemmatizer()\n",
    "    \n",
    "    words = my_tokenizer.tokenize(sentence.lower())\n",
    "    lem = [lemmatizer.lemmatize(i) for i in words]\n",
    "    \n",
    "    return \" \".join(lem)\n",
    "debate_df['lemmas'] = debate_df['text'].map(lem_sent)"
   ]
  },
  {
   "cell_type": "code",
   "execution_count": 5,
   "id": "e9454488-6524-4361-af96-d0c7a9cab65d",
   "metadata": {},
   "outputs": [],
   "source": [
    "# function to stem the text\n",
    "def stem_sent(sentence):\n",
    "    my_tokenizer = RegexpTokenizer(\"[\\w']+|\\$[\\d\\.]+\")\n",
    "    p_stemmer = PorterStemmer()\n",
    "    \n",
    "    words = my_tokenizer.tokenize(sentence.lower())\n",
    "    pstem = [p_stemmer.stem(i) for i in words]\n",
    "    \n",
    "    return \" \".join(pstem)\n",
    "debate_df['stems'] = debate_df['text'].map(stem_sent)"
   ]
  },
  {
   "cell_type": "code",
   "execution_count": 6,
   "id": "6bc7f1d2-fdba-4962-a99f-b0d5354ce2ec",
   "metadata": {},
   "outputs": [
    {
     "data": {
      "text/html": [
       "<div>\n",
       "<style scoped>\n",
       "    .dataframe tbody tr th:only-of-type {\n",
       "        vertical-align: middle;\n",
       "    }\n",
       "\n",
       "    .dataframe tbody tr th {\n",
       "        vertical-align: top;\n",
       "    }\n",
       "\n",
       "    .dataframe thead th {\n",
       "        text-align: right;\n",
       "    }\n",
       "</style>\n",
       "<table border=\"1\" class=\"dataframe\">\n",
       "  <thead>\n",
       "    <tr style=\"text-align: right;\">\n",
       "      <th></th>\n",
       "      <th>speaker</th>\n",
       "      <th>text</th>\n",
       "      <th>date</th>\n",
       "      <th>party</th>\n",
       "      <th>tokens</th>\n",
       "      <th>polarity</th>\n",
       "      <th>subjectivity</th>\n",
       "      <th>lemmas</th>\n",
       "      <th>stems</th>\n",
       "    </tr>\n",
       "  </thead>\n",
       "  <tbody>\n",
       "    <tr>\n",
       "      <th>0</th>\n",
       "      <td>PENCE</td>\n",
       "      <td>Thank you.,</td>\n",
       "      <td>September 29 2020</td>\n",
       "      <td>Republican</td>\n",
       "      <td>['you', 'thank']</td>\n",
       "      <td>0.000000</td>\n",
       "      <td>0.000000</td>\n",
       "      <td>thank you</td>\n",
       "      <td>thank you</td>\n",
       "    </tr>\n",
       "    <tr>\n",
       "      <th>1</th>\n",
       "      <td>HARRIS</td>\n",
       "      <td>Thank you Susan. Well, the American people ha...</td>\n",
       "      <td>September 29 2020</td>\n",
       "      <td>Democrat</td>\n",
       "      <td>['our', 'what', 'best', 'informed', 'be', 'pre...</td>\n",
       "      <td>0.169603</td>\n",
       "      <td>0.348862</td>\n",
       "      <td>thank you susan well the american people have ...</td>\n",
       "      <td>thank you susan well the american peopl have w...</td>\n",
       "    </tr>\n",
       "    <tr>\n",
       "      <th>2</th>\n",
       "      <td>PENCE</td>\n",
       "      <td>Susan thank you. And I want to thank the Comm...</td>\n",
       "      <td>September 29 2020</td>\n",
       "      <td>Republican</td>\n",
       "      <td>['our', 'since', 'needed', 'what', 'resources'...</td>\n",
       "      <td>0.111378</td>\n",
       "      <td>0.423008</td>\n",
       "      <td>susan thank you and i want to thank the commis...</td>\n",
       "      <td>susan thank you and i want to thank the commis...</td>\n",
       "    </tr>\n",
       "  </tbody>\n",
       "</table>\n",
       "</div>"
      ],
      "text/plain": [
       "  speaker                                               text  \\\n",
       "0   PENCE                                        Thank you.,   \n",
       "1  HARRIS   Thank you Susan. Well, the American people ha...   \n",
       "2   PENCE   Susan thank you. And I want to thank the Comm...   \n",
       "\n",
       "                date       party  \\\n",
       "0  September 29 2020  Republican   \n",
       "1  September 29 2020    Democrat   \n",
       "2  September 29 2020  Republican   \n",
       "\n",
       "                                              tokens  polarity  subjectivity  \\\n",
       "0                                   ['you', 'thank']  0.000000      0.000000   \n",
       "1  ['our', 'what', 'best', 'informed', 'be', 'pre...  0.169603      0.348862   \n",
       "2  ['our', 'since', 'needed', 'what', 'resources'...  0.111378      0.423008   \n",
       "\n",
       "                                              lemmas  \\\n",
       "0                                          thank you   \n",
       "1  thank you susan well the american people have ...   \n",
       "2  susan thank you and i want to thank the commis...   \n",
       "\n",
       "                                               stems  \n",
       "0                                          thank you  \n",
       "1  thank you susan well the american peopl have w...  \n",
       "2  susan thank you and i want to thank the commis...  "
      ]
     },
     "execution_count": 6,
     "metadata": {},
     "output_type": "execute_result"
    }
   ],
   "source": [
    "debate_df.head(3)"
   ]
  },
  {
   "cell_type": "markdown",
   "id": "ace8efe3-5a80-4c55-b7da-732becbcb19f",
   "metadata": {},
   "source": [
    "----\n",
    "## Baseline Model"
   ]
  },
  {
   "cell_type": "code",
   "execution_count": 7,
   "id": "6b2d1e7c-ac11-4b78-849e-10b65b13bc2d",
   "metadata": {},
   "outputs": [
    {
     "data": {
      "text/plain": [
       "Republican    0.547623\n",
       "Democrat      0.452377\n",
       "Name: party, dtype: float64"
      ]
     },
     "execution_count": 7,
     "metadata": {},
     "output_type": "execute_result"
    }
   ],
   "source": [
    "debate_df[\"party\"].value_counts(normalize=True)"
   ]
  },
  {
   "cell_type": "markdown",
   "id": "9aa958f0-987a-4c57-a129-34f06bd85a95",
   "metadata": {},
   "source": [
    "* The baseline score is 54.7%"
   ]
  },
  {
   "cell_type": "markdown",
   "id": "069d284c-6b15-4330-bd80-d5c6393f3cc1",
   "metadata": {},
   "source": [
    "-------\n",
    "### Train/Test multiple models with normal, lemmatized, and stemmed text "
   ]
  },
  {
   "cell_type": "code",
   "execution_count": 8,
   "id": "c303d722-33ad-49b2-8827-33fb612fa825",
   "metadata": {},
   "outputs": [],
   "source": [
    "vectorizers = [CountVectorizer( ),\n",
    "               TfidfVectorizer()]\n",
    "\n",
    "classifiers = [MultinomialNB(),\n",
    "               LogisticRegression(),\n",
    "               BaggingClassifier(),\n",
    "               RandomForestClassifier(),\n",
    "               ExtraTreesClassifier(),\n",
    "               KNeighborsClassifier(),\n",
    "               SGDClassifier()]"
   ]
  },
  {
   "cell_type": "markdown",
   "id": "2e34f806-42e5-4e3a-9cc5-0fc536a82059",
   "metadata": {},
   "source": [
    "## Normal Text"
   ]
  },
  {
   "cell_type": "code",
   "execution_count": 9,
   "id": "ada29a27-80bb-4f1d-90fd-bc27462cee3d",
   "metadata": {
    "tags": []
   },
   "outputs": [
    {
     "name": "stdout",
     "output_type": "stream",
     "text": [
      "CountVectorizer() and MultinomialNB() : 0.7108\n",
      "CountVectorizer() and LogisticRegression() : 0.69379\n",
      "CountVectorizer() and BaggingClassifier() : 0.63979\n",
      "CountVectorizer() and RandomForestClassifier() : 0.68713\n",
      "CountVectorizer() and ExtraTreesClassifier() : 0.71006\n",
      "CountVectorizer() and KNeighborsClassifier() : 0.55917\n",
      "CountVectorizer() and SGDClassifier() : 0.70636\n",
      "TfidfVectorizer() and MultinomialNB() : 0.64423\n",
      "TfidfVectorizer() and LogisticRegression() : 0.69453\n",
      "TfidfVectorizer() and BaggingClassifier() : 0.66864\n",
      "TfidfVectorizer() and RandomForestClassifier() : 0.68195\n",
      "TfidfVectorizer() and ExtraTreesClassifier() : 0.7108\n",
      "TfidfVectorizer() and KNeighborsClassifier() : 0.67678\n",
      "TfidfVectorizer() and SGDClassifier() : 0.70488\n"
     ]
    }
   ],
   "source": [
    "pipes(vectorizers, classifiers, debate_df[\"text\"] , debate_df[\"party\"])"
   ]
  },
  {
   "cell_type": "markdown",
   "id": "95eb7a5a-d740-4377-a52f-5e2f23f3ad69",
   "metadata": {},
   "source": [
    "--------\n",
    "## Lemmatized Text"
   ]
  },
  {
   "cell_type": "code",
   "execution_count": 10,
   "id": "4ca6fe92-acc6-4e86-aa6e-5e5d35dceccc",
   "metadata": {},
   "outputs": [
    {
     "name": "stdout",
     "output_type": "stream",
     "text": [
      "CountVectorizer() and MultinomialNB() : 0.7034\n",
      "CountVectorizer() and LogisticRegression() : 0.69453\n",
      "CountVectorizer() and BaggingClassifier() : 0.62352\n",
      "CountVectorizer() and RandomForestClassifier() : 0.69749\n",
      "CountVectorizer() and ExtraTreesClassifier() : 0.7034\n",
      "CountVectorizer() and KNeighborsClassifier() : 0.56805\n",
      "CountVectorizer() and SGDClassifier() : 0.69453\n",
      "TfidfVectorizer() and MultinomialNB() : 0.64719\n",
      "TfidfVectorizer() and LogisticRegression() : 0.69601\n",
      "TfidfVectorizer() and BaggingClassifier() : 0.65015\n",
      "TfidfVectorizer() and RandomForestClassifier() : 0.69083\n",
      "TfidfVectorizer() and ExtraTreesClassifier() : 0.71228\n",
      "TfidfVectorizer() and KNeighborsClassifier() : 0.67604\n",
      "TfidfVectorizer() and SGDClassifier() : 0.70932\n"
     ]
    }
   ],
   "source": [
    "pipes(vectorizers, classifiers, debate_df[\"lemmas\"] , debate_df[\"party\"])"
   ]
  },
  {
   "cell_type": "markdown",
   "id": "20f3c4b2-6f78-4eac-a7d1-2e71cf332adc",
   "metadata": {},
   "source": [
    "\n",
    "-------\n",
    "## Stemmed Text"
   ]
  },
  {
   "cell_type": "code",
   "execution_count": 11,
   "id": "0d793450-3f3d-4e88-bef2-c7d3b2588350",
   "metadata": {},
   "outputs": [
    {
     "name": "stdout",
     "output_type": "stream",
     "text": [
      "CountVectorizer() and MultinomialNB() : 0.70118\n",
      "CountVectorizer() and LogisticRegression() : 0.70636\n",
      "CountVectorizer() and BaggingClassifier() : 0.64275\n",
      "CountVectorizer() and RandomForestClassifier() : 0.69157\n",
      "CountVectorizer() and ExtraTreesClassifier() : 0.69749\n",
      "CountVectorizer() and KNeighborsClassifier() : 0.55695\n",
      "CountVectorizer() and SGDClassifier() : 0.69083\n",
      "TfidfVectorizer() and MultinomialNB() : 0.6568\n",
      "TfidfVectorizer() and LogisticRegression() : 0.7108\n",
      "TfidfVectorizer() and BaggingClassifier() : 0.65311\n",
      "TfidfVectorizer() and RandomForestClassifier() : 0.69379\n",
      "TfidfVectorizer() and ExtraTreesClassifier() : 0.70858\n",
      "TfidfVectorizer() and KNeighborsClassifier() : 0.67899\n",
      "TfidfVectorizer() and SGDClassifier() : 0.69601\n"
     ]
    }
   ],
   "source": [
    "pipes(vectorizers, classifiers, debate_df[\"stems\"] , debate_df[\"party\"])"
   ]
  },
  {
   "cell_type": "markdown",
   "id": "3f18f82f-a128-4af7-b032-0a40646e448c",
   "metadata": {},
   "source": [
    "* The best performing model is the Logistic Regression classifier and TfidfVectorizer using stemmed text\n",
    "\n",
    "----\n",
    "# Gridsearching the Best Models\n",
    " \n",
    "Note that there is still some element of randomization. So scores and confusion matrices may change.\n",
    "\n",
    "## Logistic Regression"
   ]
  },
  {
   "cell_type": "code",
   "execution_count": 12,
   "id": "50be59c5-c625-4490-b6f8-3336122ec9e5",
   "metadata": {},
   "outputs": [],
   "source": [
    "X_train, X_test, y_train, y_test = train_test_split(debate_df[\"stems\"], debate_df[\"party\"])\n",
    "pipe = make_pipeline(\n",
    "    TfidfVectorizer(),\n",
    "    LogisticRegression()   \n",
    ")"
   ]
  },
  {
   "cell_type": "code",
   "execution_count": 13,
   "id": "4371060a-7238-4b99-ad56-e220edffcd87",
   "metadata": {},
   "outputs": [
    {
     "data": {
      "text/html": [
       "<style>#sk-6e1558b8-5335-4ac8-bd4b-98e4cdb1a4e4 {color: black;background-color: white;}#sk-6e1558b8-5335-4ac8-bd4b-98e4cdb1a4e4 pre{padding: 0;}#sk-6e1558b8-5335-4ac8-bd4b-98e4cdb1a4e4 div.sk-toggleable {background-color: white;}#sk-6e1558b8-5335-4ac8-bd4b-98e4cdb1a4e4 label.sk-toggleable__label {cursor: pointer;display: block;width: 100%;margin-bottom: 0;padding: 0.3em;box-sizing: border-box;text-align: center;}#sk-6e1558b8-5335-4ac8-bd4b-98e4cdb1a4e4 div.sk-toggleable__content {max-height: 0;max-width: 0;overflow: hidden;text-align: left;background-color: #f0f8ff;}#sk-6e1558b8-5335-4ac8-bd4b-98e4cdb1a4e4 div.sk-toggleable__content pre {margin: 0.2em;color: black;border-radius: 0.25em;background-color: #f0f8ff;}#sk-6e1558b8-5335-4ac8-bd4b-98e4cdb1a4e4 input.sk-toggleable__control:checked~div.sk-toggleable__content {max-height: 200px;max-width: 100%;overflow: auto;}#sk-6e1558b8-5335-4ac8-bd4b-98e4cdb1a4e4 div.sk-estimator input.sk-toggleable__control:checked~label.sk-toggleable__label {background-color: #d4ebff;}#sk-6e1558b8-5335-4ac8-bd4b-98e4cdb1a4e4 div.sk-label input.sk-toggleable__control:checked~label.sk-toggleable__label {background-color: #d4ebff;}#sk-6e1558b8-5335-4ac8-bd4b-98e4cdb1a4e4 input.sk-hidden--visually {border: 0;clip: rect(1px 1px 1px 1px);clip: rect(1px, 1px, 1px, 1px);height: 1px;margin: -1px;overflow: hidden;padding: 0;position: absolute;width: 1px;}#sk-6e1558b8-5335-4ac8-bd4b-98e4cdb1a4e4 div.sk-estimator {font-family: monospace;background-color: #f0f8ff;border: 1px dotted black;border-radius: 0.25em;box-sizing: border-box;margin-bottom: 0.5em;}#sk-6e1558b8-5335-4ac8-bd4b-98e4cdb1a4e4 div.sk-estimator:hover {background-color: #d4ebff;}#sk-6e1558b8-5335-4ac8-bd4b-98e4cdb1a4e4 div.sk-parallel-item::after {content: \"\";width: 100%;border-bottom: 1px solid gray;flex-grow: 1;}#sk-6e1558b8-5335-4ac8-bd4b-98e4cdb1a4e4 div.sk-label:hover label.sk-toggleable__label {background-color: #d4ebff;}#sk-6e1558b8-5335-4ac8-bd4b-98e4cdb1a4e4 div.sk-serial::before {content: \"\";position: absolute;border-left: 1px solid gray;box-sizing: border-box;top: 2em;bottom: 0;left: 50%;}#sk-6e1558b8-5335-4ac8-bd4b-98e4cdb1a4e4 div.sk-serial {display: flex;flex-direction: column;align-items: center;background-color: white;padding-right: 0.2em;padding-left: 0.2em;}#sk-6e1558b8-5335-4ac8-bd4b-98e4cdb1a4e4 div.sk-item {z-index: 1;}#sk-6e1558b8-5335-4ac8-bd4b-98e4cdb1a4e4 div.sk-parallel {display: flex;align-items: stretch;justify-content: center;background-color: white;}#sk-6e1558b8-5335-4ac8-bd4b-98e4cdb1a4e4 div.sk-parallel::before {content: \"\";position: absolute;border-left: 1px solid gray;box-sizing: border-box;top: 2em;bottom: 0;left: 50%;}#sk-6e1558b8-5335-4ac8-bd4b-98e4cdb1a4e4 div.sk-parallel-item {display: flex;flex-direction: column;position: relative;background-color: white;}#sk-6e1558b8-5335-4ac8-bd4b-98e4cdb1a4e4 div.sk-parallel-item:first-child::after {align-self: flex-end;width: 50%;}#sk-6e1558b8-5335-4ac8-bd4b-98e4cdb1a4e4 div.sk-parallel-item:last-child::after {align-self: flex-start;width: 50%;}#sk-6e1558b8-5335-4ac8-bd4b-98e4cdb1a4e4 div.sk-parallel-item:only-child::after {width: 0;}#sk-6e1558b8-5335-4ac8-bd4b-98e4cdb1a4e4 div.sk-dashed-wrapped {border: 1px dashed gray;margin: 0 0.4em 0.5em 0.4em;box-sizing: border-box;padding-bottom: 0.4em;background-color: white;position: relative;}#sk-6e1558b8-5335-4ac8-bd4b-98e4cdb1a4e4 div.sk-label label {font-family: monospace;font-weight: bold;background-color: white;display: inline-block;line-height: 1.2em;}#sk-6e1558b8-5335-4ac8-bd4b-98e4cdb1a4e4 div.sk-label-container {position: relative;z-index: 2;text-align: center;}#sk-6e1558b8-5335-4ac8-bd4b-98e4cdb1a4e4 div.sk-container {display: inline-block;position: relative;}</style><div id=\"sk-6e1558b8-5335-4ac8-bd4b-98e4cdb1a4e4\" class\"sk-top-container\"><div class=\"sk-container\"><div class=\"sk-item sk-dashed-wrapped\"><div class=\"sk-label-container\"><div class=\"sk-label sk-toggleable\"><input class=\"sk-toggleable__control sk-hidden--visually\" id=\"3c630c47-cfd0-40b7-9c16-16c761088d31\" type=\"checkbox\" ><label class=\"sk-toggleable__label\" for=\"3c630c47-cfd0-40b7-9c16-16c761088d31\">Pipeline</label><div class=\"sk-toggleable__content\"><pre>Pipeline(steps=[('tfidfvectorizer', TfidfVectorizer()),\n",
       "                ('logisticregression', LogisticRegression())])</pre></div></div></div><div class=\"sk-serial\"><div class=\"sk-item\"><div class=\"sk-estimator sk-toggleable\"><input class=\"sk-toggleable__control sk-hidden--visually\" id=\"6d62e173-b2e0-4404-b156-c8f3338a6bf8\" type=\"checkbox\" ><label class=\"sk-toggleable__label\" for=\"6d62e173-b2e0-4404-b156-c8f3338a6bf8\">TfidfVectorizer</label><div class=\"sk-toggleable__content\"><pre>TfidfVectorizer()</pre></div></div></div><div class=\"sk-item\"><div class=\"sk-estimator sk-toggleable\"><input class=\"sk-toggleable__control sk-hidden--visually\" id=\"eaca78a5-3b05-46f1-bdf0-b2b915d64f0b\" type=\"checkbox\" ><label class=\"sk-toggleable__label\" for=\"eaca78a5-3b05-46f1-bdf0-b2b915d64f0b\">LogisticRegression</label><div class=\"sk-toggleable__content\"><pre>LogisticRegression()</pre></div></div></div></div></div></div></div>"
      ],
      "text/plain": [
       "Pipeline(steps=[('tfidfvectorizer', TfidfVectorizer()),\n",
       "                ('logisticregression', LogisticRegression())])"
      ]
     },
     "execution_count": 13,
     "metadata": {},
     "output_type": "execute_result"
    }
   ],
   "source": [
    "pipe.fit(X_train, y_train)"
   ]
  },
  {
   "cell_type": "code",
   "execution_count": 14,
   "id": "9ea1b3a2-2498-4fd8-b753-9d05f83b358d",
   "metadata": {},
   "outputs": [
    {
     "data": {
      "text/plain": [
       "0.7048816568047337"
      ]
     },
     "execution_count": 14,
     "metadata": {},
     "output_type": "execute_result"
    }
   ],
   "source": [
    "pipe.score(X_test, y_test)"
   ]
  },
  {
   "cell_type": "code",
   "execution_count": 15,
   "id": "41152231-be47-4887-a2d8-c041b401b4c5",
   "metadata": {},
   "outputs": [
    {
     "data": {
      "text/plain": [
       "0.7596153846153846"
      ]
     },
     "execution_count": 15,
     "metadata": {},
     "output_type": "execute_result"
    }
   ],
   "source": [
    "#takes a  few minutes to run\n",
    "params = {\n",
    "    'tfidfvectorizer__binary': [False, True], \n",
    "    'tfidfvectorizer__ngram_range': [(1, 1), (1, 2), (1, 3),(1, 4) ,(1, 5)],\n",
    "    'logisticregression__C': [1.7, 2],\n",
    "    'logisticregression__fit_intercept': [True,False]\n",
    "}\n",
    "gs = GridSearchCV(pipe, params, n_jobs=-1)\n",
    "gs.fit(X_train, y_train)\n",
    "gs.score(X_test, y_test)"
   ]
  },
  {
   "cell_type": "code",
   "execution_count": 17,
   "id": "8f444ac7-deae-4743-a6b5-45d202a5a899",
   "metadata": {},
   "outputs": [
    {
     "data": {
      "text/plain": [
       "{'logisticregression__C': 2,\n",
       " 'logisticregression__fit_intercept': True,\n",
       " 'tfidfvectorizer__binary': True,\n",
       " 'tfidfvectorizer__ngram_range': (1, 2)}"
      ]
     },
     "execution_count": 17,
     "metadata": {},
     "output_type": "execute_result"
    }
   ],
   "source": [
    "gs.best_params_"
   ]
  },
  {
   "cell_type": "code",
   "execution_count": 18,
   "id": "762da599-4ad8-48ce-981b-16cd7dbbfc38",
   "metadata": {},
   "outputs": [
    {
     "data": {
      "text/plain": [
       "{'tfidfvectorizer': TfidfVectorizer(binary=True, ngram_range=(1, 2)),\n",
       " 'logisticregression': LogisticRegression(C=2)}"
      ]
     },
     "execution_count": 18,
     "metadata": {},
     "output_type": "execute_result"
    }
   ],
   "source": [
    "gs.best_estimator_.named_steps"
   ]
  },
  {
   "cell_type": "code",
   "execution_count": 19,
   "id": "cb388c42-6c4a-456a-83f4-22cf399ae9e4",
   "metadata": {},
   "outputs": [],
   "source": [
    "names =gs.best_estimator_.named_steps[\"tfidfvectorizer\"].get_feature_names_out()"
   ]
  },
  {
   "cell_type": "code",
   "execution_count": 20,
   "id": "329a6304-8692-41b0-98e6-6ca373a464b0",
   "metadata": {},
   "outputs": [
    {
     "data": {
      "text/html": [
       "<div>\n",
       "<style scoped>\n",
       "    .dataframe tbody tr th:only-of-type {\n",
       "        vertical-align: middle;\n",
       "    }\n",
       "\n",
       "    .dataframe tbody tr th {\n",
       "        vertical-align: top;\n",
       "    }\n",
       "\n",
       "    .dataframe thead th {\n",
       "        text-align: right;\n",
       "    }\n",
       "</style>\n",
       "<table border=\"1\" class=\"dataframe\">\n",
       "  <thead>\n",
       "    <tr style=\"text-align: right;\">\n",
       "      <th></th>\n",
       "      <th>0</th>\n",
       "    </tr>\n",
       "  </thead>\n",
       "  <tbody>\n",
       "    <tr>\n",
       "      <th>governor</th>\n",
       "      <td>-3.397443</td>\n",
       "    </tr>\n",
       "    <tr>\n",
       "      <th>john</th>\n",
       "      <td>-2.558461</td>\n",
       "    </tr>\n",
       "    <tr>\n",
       "      <th>bush</th>\n",
       "      <td>-2.227156</td>\n",
       "    </tr>\n",
       "    <tr>\n",
       "      <th>in fact</th>\n",
       "      <td>-1.938743</td>\n",
       "    </tr>\n",
       "    <tr>\n",
       "      <th>candi</th>\n",
       "      <td>-1.884461</td>\n",
       "    </tr>\n",
       "    <tr>\n",
       "      <th>now</th>\n",
       "      <td>-1.846439</td>\n",
       "    </tr>\n",
       "    <tr>\n",
       "      <th>propos</th>\n",
       "      <td>-1.780051</td>\n",
       "    </tr>\n",
       "    <tr>\n",
       "      <th>martha</th>\n",
       "      <td>-1.779256</td>\n",
       "    </tr>\n",
       "    <tr>\n",
       "      <th>donald</th>\n",
       "      <td>-1.772867</td>\n",
       "    </tr>\n",
       "    <tr>\n",
       "      <th>that is</th>\n",
       "      <td>-1.731719</td>\n",
       "    </tr>\n",
       "    <tr>\n",
       "      <th>can</th>\n",
       "      <td>-1.708596</td>\n",
       "    </tr>\n",
       "    <tr>\n",
       "      <th>romney</th>\n",
       "      <td>-1.683130</td>\n",
       "    </tr>\n",
       "    <tr>\n",
       "      <th>elain</th>\n",
       "      <td>-1.642229</td>\n",
       "    </tr>\n",
       "    <tr>\n",
       "      <th>not</th>\n",
       "      <td>-1.620946</td>\n",
       "    </tr>\n",
       "    <tr>\n",
       "      <th>governor romney</th>\n",
       "      <td>-1.620051</td>\n",
       "    </tr>\n",
       "  </tbody>\n",
       "</table>\n",
       "</div>"
      ],
      "text/plain": [
       "                        0\n",
       "governor        -3.397443\n",
       "john            -2.558461\n",
       "bush            -2.227156\n",
       "in fact         -1.938743\n",
       "candi           -1.884461\n",
       "now             -1.846439\n",
       "propos          -1.780051\n",
       "martha          -1.779256\n",
       "donald          -1.772867\n",
       "that is         -1.731719\n",
       "can             -1.708596\n",
       "romney          -1.683130\n",
       "elain           -1.642229\n",
       "not             -1.620946\n",
       "governor romney -1.620051"
      ]
     },
     "execution_count": 20,
     "metadata": {},
     "output_type": "execute_result"
    }
   ],
   "source": [
    "coefs = pd.DataFrame(gs.best_estimator_.named_steps[\"logisticregression\"].coef_, columns=names)\n",
    "(coefs.T).sort_values(by = 0).head(15)"
   ]
  },
  {
   "cell_type": "code",
   "execution_count": 36,
   "id": "55e203fb-660b-428c-bb72-d9ba90fe61e1",
   "metadata": {},
   "outputs": [
    {
     "data": {
      "text/html": [
       "<div>\n",
       "<style scoped>\n",
       "    .dataframe tbody tr th:only-of-type {\n",
       "        vertical-align: middle;\n",
       "    }\n",
       "\n",
       "    .dataframe tbody tr th {\n",
       "        vertical-align: top;\n",
       "    }\n",
       "\n",
       "    .dataframe thead th {\n",
       "        text-align: right;\n",
       "    }\n",
       "</style>\n",
       "<table border=\"1\" class=\"dataframe\">\n",
       "  <thead>\n",
       "    <tr style=\"text-align: right;\">\n",
       "      <th></th>\n",
       "      <th>0</th>\n",
       "    </tr>\n",
       "  </thead>\n",
       "  <tbody>\n",
       "    <tr>\n",
       "      <th>look at</th>\n",
       "      <td>1.274721</td>\n",
       "    </tr>\n",
       "    <tr>\n",
       "      <th>and</th>\n",
       "      <td>1.351307</td>\n",
       "    </tr>\n",
       "    <tr>\n",
       "      <th>spend</th>\n",
       "      <td>1.363790</td>\n",
       "    </tr>\n",
       "    <tr>\n",
       "      <th>senat</th>\n",
       "      <td>1.397455</td>\n",
       "    </tr>\n",
       "    <tr>\n",
       "      <th>she</th>\n",
       "      <td>1.451931</td>\n",
       "    </tr>\n",
       "    <tr>\n",
       "      <th>govern</th>\n",
       "      <td>1.495939</td>\n",
       "    </tr>\n",
       "    <tr>\n",
       "      <th>wrong</th>\n",
       "      <td>1.506252</td>\n",
       "    </tr>\n",
       "    <tr>\n",
       "      <th>they</th>\n",
       "      <td>1.557802</td>\n",
       "    </tr>\n",
       "    <tr>\n",
       "      <th>cours</th>\n",
       "      <td>1.647618</td>\n",
       "    </tr>\n",
       "    <tr>\n",
       "      <th>of cours</th>\n",
       "      <td>1.689111</td>\n",
       "    </tr>\n",
       "    <tr>\n",
       "      <th>clinton</th>\n",
       "      <td>1.747431</td>\n",
       "    </tr>\n",
       "    <tr>\n",
       "      <th>ll</th>\n",
       "      <td>1.815856</td>\n",
       "    </tr>\n",
       "    <tr>\n",
       "      <th>senat obama</th>\n",
       "      <td>1.908536</td>\n",
       "    </tr>\n",
       "    <tr>\n",
       "      <th>obama</th>\n",
       "      <td>2.282684</td>\n",
       "    </tr>\n",
       "    <tr>\n",
       "      <th>joe</th>\n",
       "      <td>2.623662</td>\n",
       "    </tr>\n",
       "  </tbody>\n",
       "</table>\n",
       "</div>"
      ],
      "text/plain": [
       "                    0\n",
       "look at      1.274721\n",
       "and          1.351307\n",
       "spend        1.363790\n",
       "senat        1.397455\n",
       "she          1.451931\n",
       "govern       1.495939\n",
       "wrong        1.506252\n",
       "they         1.557802\n",
       "cours        1.647618\n",
       "of cours     1.689111\n",
       "clinton      1.747431\n",
       "ll           1.815856\n",
       "senat obama  1.908536\n",
       "obama        2.282684\n",
       "joe          2.623662"
      ]
     },
     "execution_count": 36,
     "metadata": {},
     "output_type": "execute_result"
    }
   ],
   "source": [
    "(coefs.T).sort_values(by = 0).tail(15)"
   ]
  },
  {
   "cell_type": "markdown",
   "id": "9d123015-7a08-4a03-87fa-948c6004de11",
   "metadata": {},
   "source": [
    "\n",
    "### Confusion Matrix"
   ]
  },
  {
   "cell_type": "code",
   "execution_count": 22,
   "id": "94f7414e-1a26-41d0-b028-adbef6b9d683",
   "metadata": {},
   "outputs": [
    {
     "data": {
      "image/png": "[encoded data removed]",
      "text/plain": [
       "<Figure size 432x288 with 2 Axes>"
      ]
     },
     "metadata": {
      "needs_background": "light"
     },
     "output_type": "display_data"
    }
   ],
   "source": [
    "# Before Gridsearch\n",
    "ConfusionMatrixDisplay.from_estimator(pipe, X_test, y_test);"
   ]
  },
  {
   "cell_type": "code",
   "execution_count": 23,
   "id": "468cff24-e1ed-4336-be69-5265cae9f487",
   "metadata": {},
   "outputs": [
    {
     "data": {
      "text/plain": [
       "(1, 352)"
      ]
     },
     "execution_count": 23,
     "metadata": {},
     "output_type": "execute_result"
    },
    {
     "data": {
      "image/png": "[encoded data removed]",
      "text/plain": [
       "<Figure size 432x288 with 2 Axes>"
      ]
     },
     "metadata": {
      "needs_background": "light"
     },
     "output_type": "display_data"
    }
   ],
   "source": [
    "#After Gridseach\n",
    "ConfusionMatrixDisplay.from_estimator(gs, X_test, y_test);"
   ]
  },
  {
   "cell_type": "markdown",
   "id": "f4e952df-f0b3-4145-941c-e1f0bd723bf6",
   "metadata": {},
   "source": [
    "------\n",
    "## Multinomial Naive Bayes"
   ]
  },
  {
   "cell_type": "code",
   "execution_count": 24,
   "id": "44e644aa-121f-4429-9a40-b4dfbd5af145",
   "metadata": {},
   "outputs": [
    {
     "data": {
      "text/html": [
       "<div>\n",
       "<style scoped>\n",
       "    .dataframe tbody tr th:only-of-type {\n",
       "        vertical-align: middle;\n",
       "    }\n",
       "\n",
       "    .dataframe tbody tr th {\n",
       "        vertical-align: top;\n",
       "    }\n",
       "\n",
       "    .dataframe thead th {\n",
       "        text-align: right;\n",
       "    }\n",
       "</style>\n",
       "<table border=\"1\" class=\"dataframe\">\n",
       "  <thead>\n",
       "    <tr style=\"text-align: right;\">\n",
       "      <th></th>\n",
       "      <th>speaker</th>\n",
       "      <th>text</th>\n",
       "      <th>date</th>\n",
       "      <th>party</th>\n",
       "      <th>tokens</th>\n",
       "      <th>polarity</th>\n",
       "      <th>subjectivity</th>\n",
       "      <th>lemmas</th>\n",
       "      <th>stems</th>\n",
       "    </tr>\n",
       "  </thead>\n",
       "  <tbody>\n",
       "    <tr>\n",
       "      <th>0</th>\n",
       "      <td>PENCE</td>\n",
       "      <td>Thank you.,</td>\n",
       "      <td>September 29 2020</td>\n",
       "      <td>Republican</td>\n",
       "      <td>['you', 'thank']</td>\n",
       "      <td>0.0</td>\n",
       "      <td>0.0</td>\n",
       "      <td>thank you</td>\n",
       "      <td>thank you</td>\n",
       "    </tr>\n",
       "  </tbody>\n",
       "</table>\n",
       "</div>"
      ],
      "text/plain": [
       "  speaker          text               date       party            tokens  \\\n",
       "0   PENCE   Thank you.,  September 29 2020  Republican  ['you', 'thank']   \n",
       "\n",
       "   polarity  subjectivity     lemmas      stems  \n",
       "0       0.0           0.0  thank you  thank you  "
      ]
     },
     "execution_count": 24,
     "metadata": {},
     "output_type": "execute_result"
    }
   ],
   "source": [
    "debate_df.head(1)"
   ]
  },
  {
   "cell_type": "code",
   "execution_count": 25,
   "id": "aab7dd0b-edf4-4fb2-bf74-5dff2d982103",
   "metadata": {},
   "outputs": [],
   "source": [
    "from sklearn.preprocessing import OneHotEncoder\n",
    "ct = make_column_transformer(\n",
    "    (CountVectorizer(), 'stems'),\n",
    "    (OneHotEncoder(handle_unknown='ignore', sparse=False), ['date'])\n",
    ")"
   ]
  },
  {
   "cell_type": "code",
   "execution_count": 26,
   "id": "88d70f9a-a5a8-438c-a471-aef51281ec7b",
   "metadata": {},
   "outputs": [
    {
     "data": {
      "text/plain": [
       "0.6960059171597633"
      ]
     },
     "execution_count": 26,
     "metadata": {},
     "output_type": "execute_result"
    }
   ],
   "source": [
    "X_train, X_test, y_train, y_test = train_test_split(debate_df[[\"stems\", \"date\", \"subjectivity\", \"polarity\"]], debate_df[\"party\"])\n",
    "pipe2 = make_pipeline(\n",
    "    ct,\n",
    "    MultinomialNB()   \n",
    ")\n",
    "pipe2.fit(X_train, y_train)\n",
    "pipe2.score(X_test, y_test)"
   ]
  },
  {
   "cell_type": "code",
   "execution_count": 27,
   "id": "0c566955-e27e-4275-8219-5d243a4fdbd8",
   "metadata": {},
   "outputs": [
    {
     "data": {
      "text/plain": [
       "0.7773668639053254"
      ]
     },
     "execution_count": 27,
     "metadata": {},
     "output_type": "execute_result"
    }
   ],
   "source": [
    "params2 = {\n",
    "    'multinomialnb__alpha': [.7, 1.0, 1.3],\n",
    "    'multinomialnb__fit_prior': [True, False],\n",
    "    'columntransformer__countvectorizer__binary': [False, True],\n",
    "    'columntransformer__countvectorizer__ngram_range':  [(1, 1), (1, 2), (1, 3),(1, 4) ,(1, 5)]\n",
    "}\n",
    "\n",
    "gs2 = GridSearchCV(pipe2, params2, n_jobs=-1)\n",
    "gs2.fit(X_train, y_train)\n",
    "gs2.score(X_test, y_test)"
   ]
  },
  {
   "cell_type": "markdown",
   "id": "5c7de2d4-9724-4442-b023-503896e1fff3",
   "metadata": {},
   "source": [
    "\n",
    "### Confusion Matrix"
   ]
  },
  {
   "cell_type": "code",
   "execution_count": 28,
   "id": "5ffa7840-9e9b-4fed-b2b9-47b0331f4a48",
   "metadata": {},
   "outputs": [
    {
     "data": {
      "image/png": "[encoded data removed]",
      "text/plain": [
       "<Figure size 432x288 with 2 Axes>"
      ]
     },
     "metadata": {
      "needs_background": "light"
     },
     "output_type": "display_data"
    }
   ],
   "source": [
    "ConfusionMatrixDisplay.from_estimator(pipe2, X_test, y_test);"
   ]
  },
  {
   "cell_type": "code",
   "execution_count": 29,
   "id": "6a21ef0d-4e11-4afb-bdcc-82bfa64f468a",
   "metadata": {},
   "outputs": [
    {
     "data": {
      "image/png": "[encoded data removed]",
      "text/plain": [
       "<Figure size 432x288 with 2 Axes>"
      ]
     },
     "metadata": {
      "needs_background": "light"
     },
     "output_type": "display_data"
    }
   ],
   "source": [
    "ConfusionMatrixDisplay.from_estimator(gs2, X_test, y_test);"
   ]
  },
  {
   "cell_type": "code",
   "execution_count": 30,
   "id": "6363c34b-0314-419e-a609-9e475a3ba775",
   "metadata": {},
   "outputs": [
    {
     "data": {
      "text/plain": [
       "{'columntransformer__countvectorizer__binary': True,\n",
       " 'columntransformer__countvectorizer__ngram_range': (1, 4),\n",
       " 'multinomialnb__alpha': 1.0,\n",
       " 'multinomialnb__fit_prior': False}"
      ]
     },
     "execution_count": 30,
     "metadata": {},
     "output_type": "execute_result"
    }
   ],
   "source": [
    "gs2.best_params_"
   ]
  },
  {
   "cell_type": "markdown",
   "id": "a6310a46-2567-4ac6-a407-bf72e3e4d035",
   "metadata": {},
   "source": [
    "---------"
   ]
  }
 ],
 "metadata": {
  "kernelspec": {
   "display_name": "Python 3",
   "language": "python",
   "name": "python3"
  },
  "language_info": {
   "codemirror_mode": {
    "name": "ipython",
    "version": 3
   },
   "file_extension": ".py",
   "mimetype": "text/x-python",
   "name": "python",
   "nbconvert_exporter": "python",
   "pygments_lexer": "ipython3",
   "version": "3.8.8"
  }
 },
 "nbformat": 4,
 "nbformat_minor": 5
}
