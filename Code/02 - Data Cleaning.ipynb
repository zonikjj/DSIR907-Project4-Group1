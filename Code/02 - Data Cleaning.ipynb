{
 "cells": [
  {
   "cell_type": "markdown",
   "id": "fba245fd-508f-4962-8379-d735840793b1",
   "metadata": {},
   "source": [
    "# Imports"
   ]
  },
  {
   "cell_type": "code",
   "execution_count": 2,
   "id": "07b50185-87f4-49cc-a9bd-1f87d18681d3",
   "metadata": {},
   "outputs": [],
   "source": [
    "import pandas as pd\n",
    "import numpy as np\n",
    "\n",
    "import re\n",
    "import unicodedata"
   ]
  },
  {
   "cell_type": "markdown",
   "id": "6c908580-1699-4b47-8d2c-29848c45aca1",
   "metadata": {},
   "source": [
    "-----\n",
    "### Read in Dataframe"
   ]
  },
  {
   "cell_type": "code",
   "execution_count": 8,
   "id": "724581af-8cf0-4dd8-a647-a23712693487",
   "metadata": {},
   "outputs": [
    {
     "data": {
      "text/html": [
       "<div>\n",
       "<style scoped>\n",
       "    .dataframe tbody tr th:only-of-type {\n",
       "        vertical-align: middle;\n",
       "    }\n",
       "\n",
       "    .dataframe tbody tr th {\n",
       "        vertical-align: top;\n",
       "    }\n",
       "\n",
       "    .dataframe thead th {\n",
       "        text-align: right;\n",
       "    }\n",
       "</style>\n",
       "<table border=\"1\" class=\"dataframe\">\n",
       "  <thead>\n",
       "    <tr style=\"text-align: right;\">\n",
       "      <th></th>\n",
       "      <th>url</th>\n",
       "      <th>text</th>\n",
       "    </tr>\n",
       "  </thead>\n",
       "  <tbody>\n",
       "    <tr>\n",
       "      <th>0</th>\n",
       "      <td>https://www.debates.org//voter-education/debat...</td>\n",
       "      <td>[&lt;p&gt;&lt;b&gt;Vice Presidential Debate at the Univers...</td>\n",
       "    </tr>\n",
       "    <tr>\n",
       "      <th>1</th>\n",
       "      <td>https://www.debates.org//voter-education/debat...</td>\n",
       "      <td>[&lt;p&gt;&lt;b&gt;Presidential Debate at Belmont Universi...</td>\n",
       "    </tr>\n",
       "    <tr>\n",
       "      <th>2</th>\n",
       "      <td>https://www.debates.org//voter-education/debat...</td>\n",
       "      <td>[&lt;p&gt;&lt;b&gt;Presidential Debate at Case Western Res...</td>\n",
       "    </tr>\n",
       "  </tbody>\n",
       "</table>\n",
       "</div>"
      ],
      "text/plain": [
       "                                                 url  \\\n",
       "0  https://www.debates.org//voter-education/debat...   \n",
       "1  https://www.debates.org//voter-education/debat...   \n",
       "2  https://www.debates.org//voter-education/debat...   \n",
       "\n",
       "                                                text  \n",
       "0  [<p><b>Vice Presidential Debate at the Univers...  \n",
       "1  [<p><b>Presidential Debate at Belmont Universi...  \n",
       "2  [<p><b>Presidential Debate at Case Western Res...  "
      ]
     },
     "execution_count": 8,
     "metadata": {},
     "output_type": "execute_result"
    }
   ],
   "source": [
    "df = pd.read_csv(\"../Data/df.csv\")\n",
    "df.head(3)"
   ]
  },
  {
   "cell_type": "markdown",
   "id": "5d865636-0307-422e-8647-7991f80fb812",
   "metadata": {},
   "source": [
    "-----\n",
    "# Clean Transcript Text and Put Into Dataframe"
   ]
  },
  {
   "cell_type": "code",
   "execution_count": 3,
   "id": "9c8a503f-0fe4-41ef-931d-9dc35dff7f27",
   "metadata": {},
   "outputs": [],
   "source": [
    "def clean_text(text):\n",
    "    new_text = re.sub('<[^>]+>', '', text)  #Removes HTML tags\n",
    "    return unicodedata.normalize(\"NFKD\", new_text) #Returns the normal form from the Unicode string"
   ]
  },
  {
   "cell_type": "code",
   "execution_count": 4,
   "id": "c726d7d7-d621-4f00-b4c9-27c369b10c1a",
   "metadata": {},
   "outputs": [],
   "source": [
    "def split_text(text):\n",
    "    split_text = text.split(\":\") #splits every element in list at \" : \"\n",
    "    return [(line).rsplit(' ', 1) for line in split_text] #seperates the last word from every element in list to get speaker name"
   ]
  },
  {
   "cell_type": "code",
   "execution_count": 5,
   "id": "96c7ac7f-a9ad-4fb5-81f9-f35cd49936d6",
   "metadata": {},
   "outputs": [],
   "source": [
    "def flatten(text):\n",
    "    return [item for sublist in text for item in sublist] #turns a list of lists into a list "
   ]
  },
  {
   "cell_type": "code",
   "execution_count": 28,
   "id": "d47e233a-2f7d-4d79-98e4-b92e5bf270c3",
   "metadata": {},
   "outputs": [],
   "source": [
    "def to_df(text): #makes a dataframe with speaker in first column and text in the second column\n",
    "    if len(text[33].split()) == 1 : #makes sure speaker index is even. Randomly chose 33\n",
    "        text.pop(0) #removes first element in list if speaker index is odd\n",
    "    if len(text)%2 == 1: #makes sure list is even\n",
    "        text.pop() #removes last element in list if list length is odd\n",
    "    return pd.DataFrame(np.array(text).reshape(len(text)//2,2), columns = [\"speaker\", \"text\"]) #makes a dataframe with 2 columns and (len(list)/2) rows"
   ]
  },
  {
   "cell_type": "code",
   "execution_count": 32,
   "id": "956c8ace-9e43-46f7-8a28-1594a3448b18",
   "metadata": {},
   "outputs": [],
   "source": [
    "def format_df(df):\n",
    "    new_df = pd.DataFrame(columns = [\"speaker\", \"text\"]) #creates new df \n",
    "    for i in df.index:\n",
    "        if df[\"speaker\"].iloc[i] != (df[\"speaker\"].iloc[i]).upper(): #speakers are in ALLCAPS , so this finds words that aren't all capitalized\n",
    "            if (i != 0): #to prevent errors\n",
    "                text = df[\"text\"].iloc[i-1]  + \" \" + df[\"speaker\"].iloc[i] + df[\"text\"].iloc[i] # connects text from previous line and cuurent line\n",
    "                new_df.at[new_df.index[-1], 'text'] = text # replaces text from previous line \n",
    "        else :\n",
    "            new_df = new_df.append(df.iloc[[i]])  #no problems with these lines so we append as is\n",
    "    return new_df #returns new dataframe"
   ]
  },
  {
   "cell_type": "code",
   "execution_count": 33,
   "id": "cdcfc638-af8f-45ea-8a07-c99471886320",
   "metadata": {},
   "outputs": [],
   "source": [
    "#debate_df, final_debate_df = pd.DataFrame(columns=[\"speaker\", \"text\", \"temp\"]) , pd.DataFrame(columns=[\"speaker\", \"text\", \"temp\"])\n",
    "temp_debate = pd.DataFrame(columns=[\"speaker\", \"text\", \"temp\"])\n",
    "for i in range(len(df)):\n",
    "    debate_text = str(list(df[\"text\"])[i])   \n",
    "    debate_text = clean_text(debate_text)\n",
    "    debate_text = split_text(debate_text)\n",
    "    debate_text = flatten(debate_text)\n",
    "    temp_df = to_df(debate_text) #some words make its way to the speaker column if it had a colon after it\n",
    "    temp_df[\"temp\"] = i #placeholder to replace with election year\n",
    "    temp_debate = pd.concat([temp_debate, temp_df],ignore_index=True)\n",
    "\n",
    "debate_df = format_df(temp_debate) # removes nonspeakers from speaker column\n",
    "debate_df.reset_index(drop = True, inplace=True)"
   ]
  },
  {
   "cell_type": "code",
   "execution_count": 35,
   "id": "81cd78bf-9da5-4200-aa01-e34a6f924b2c",
   "metadata": {},
   "outputs": [
    {
     "data": {
      "text/html": [
       "<div>\n",
       "<style scoped>\n",
       "    .dataframe tbody tr th:only-of-type {\n",
       "        vertical-align: middle;\n",
       "    }\n",
       "\n",
       "    .dataframe tbody tr th {\n",
       "        vertical-align: top;\n",
       "    }\n",
       "\n",
       "    .dataframe thead th {\n",
       "        text-align: right;\n",
       "    }\n",
       "</style>\n",
       "<table border=\"1\" class=\"dataframe\">\n",
       "  <thead>\n",
       "    <tr style=\"text-align: right;\">\n",
       "      <th></th>\n",
       "      <th>speaker</th>\n",
       "      <th>text</th>\n",
       "      <th>temp</th>\n",
       "    </tr>\n",
       "  </thead>\n",
       "  <tbody>\n",
       "    <tr>\n",
       "      <th>0</th>\n",
       "      <td>PARTICIPANTS</td>\n",
       "      <td>\\nSenator Kamala Harris (D-CA) and\\nVice Presi...</td>\n",
       "      <td>0</td>\n",
       "    </tr>\n",
       "    <tr>\n",
       "      <th>1</th>\n",
       "      <td>MODERATOR</td>\n",
       "      <td>\\nSusan Page (USA Today),</td>\n",
       "      <td>0</td>\n",
       "    </tr>\n",
       "    <tr>\n",
       "      <th>2</th>\n",
       "      <td>PAGE</td>\n",
       "      <td>Good evening. From the University of Utah in ...</td>\n",
       "      <td>0</td>\n",
       "    </tr>\n",
       "  </tbody>\n",
       "</table>\n",
       "</div>"
      ],
      "text/plain": [
       "        speaker                                               text temp\n",
       "0  PARTICIPANTS  \\nSenator Kamala Harris (D-CA) and\\nVice Presi...    0\n",
       "1     MODERATOR                          \\nSusan Page (USA Today),    0\n",
       "2          PAGE   Good evening. From the University of Utah in ...    0"
      ]
     },
     "execution_count": 35,
     "metadata": {},
     "output_type": "execute_result"
    }
   ],
   "source": [
    "#check the new dataframe\n",
    "debate_df.head(3)"
   ]
  },
  {
   "cell_type": "markdown",
   "id": "5a75c8eb-04e7-46c7-a4f2-490c12c1095f",
   "metadata": {},
   "source": [
    "-----\n"
   ]
  },
  {
   "cell_type": "code",
   "execution_count": 73,
   "id": "26024882-5800-4903-80cb-e2b6d8ab646d",
   "metadata": {},
   "outputs": [
    {
     "data": {
      "text/html": [
       "<div>\n",
       "<style scoped>\n",
       "    .dataframe tbody tr th:only-of-type {\n",
       "        vertical-align: middle;\n",
       "    }\n",
       "\n",
       "    .dataframe tbody tr th {\n",
       "        vertical-align: top;\n",
       "    }\n",
       "\n",
       "    .dataframe thead th {\n",
       "        text-align: right;\n",
       "    }\n",
       "</style>\n",
       "<table border=\"1\" class=\"dataframe\">\n",
       "  <thead>\n",
       "    <tr style=\"text-align: right;\">\n",
       "      <th></th>\n",
       "      <th>speaker</th>\n",
       "      <th>text</th>\n",
       "      <th>temp</th>\n",
       "    </tr>\n",
       "  </thead>\n",
       "  <tbody>\n",
       "  </tbody>\n",
       "</table>\n",
       "</div>"
      ],
      "text/plain": [
       "Empty DataFrame\n",
       "Columns: [speaker, text, temp]\n",
       "Index: []"
      ]
     },
     "execution_count": 73,
     "metadata": {},
     "output_type": "execute_result"
    }
   ],
   "source": [
    "debate_df[debate_df[\"speaker\"] == \"\"]"
   ]
  },
  {
   "cell_type": "markdown",
   "id": "8cc608cf-708a-4566-a5dc-73392af5d5e8",
   "metadata": {},
   "source": [
    "We see that there is a row where there is no speaker in the column. Looking at the quote we can see that Clinton said the quote."
   ]
  },
  {
   "cell_type": "code",
   "execution_count": 69,
   "id": "7567be3b-3639-45c9-927b-5636c87dbd6c",
   "metadata": {},
   "outputs": [],
   "source": [
    "debate_df.at[6497, \"speaker\"] = \"CLINTON\""
   ]
  },
  {
   "cell_type": "markdown",
   "id": "8c158092-010f-4bba-a884-d6968cc0f4f7",
   "metadata": {},
   "source": [
    "-----\n",
    "## Fixing Typos in speaker column\n",
    "Below is a list of candidate names that are correctly spelled."
   ]
  },
  {
   "cell_type": "code",
   "execution_count": 59,
   "id": "319930d4-c27c-46f7-88fc-8958c04a664f",
   "metadata": {},
   "outputs": [],
   "source": [
    "candidate_list = ['Nixon', 'Kennedy', 'Carter', 'Ford', 'Reagan', 'Anderson', 'Mondale', 'Ferraro',\n",
    "                  'Bush', 'Dukakis', 'Quayle', 'Bentsen', 'Clinton', 'Bush', 'Perot', 'Gore',\n",
    "                  'Stockdale', 'Dole', 'Kemp', 'Lieberman', 'Cheney', 'Kerry', 'Edwards', 'McCain',\n",
    "                  'Obama', 'Biden', 'Palin', 'Romney', 'Ryan', 'Trump', 'Pence', 'Kaine', 'Harris']"
   ]
  },
  {
   "cell_type": "markdown",
   "id": "49b3eb7a-aaa8-4a78-8415-4d9f05596aa0",
   "metadata": {},
   "source": [
    "For our purposes, it will be useful to also have a list of some of the moderator's names."
   ]
  },
  {
   "cell_type": "code",
   "execution_count": 60,
   "id": "a5b8ba79-c6ed-4193-9089-033c13bee81e",
   "metadata": {},
   "outputs": [],
   "source": [
    "candidate_list.extend(['warner', 'cronkite', 'Lieberman', 'smith', 'kelly', 'thomas', 'brokaw',\n",
    "                       'fowler', \"O'brien\", 'baltimore', 'audience' 'mondale', 'newman', 'david',\n",
    "                       'lehrer', 'speakers', 'washington', 'holt', 'wallace', 'moderator', 'schieffer',\n",
    "                       'participants', 'moderators', 'chancellor', 'crowley','fleck','giannotti', \n",
    "                       'farley', 'niven', 'berkley','spivak', 'quijano', 'page', 'hubb', 'mashek','dube'])"
   ]
  },
  {
   "cell_type": "markdown",
   "id": "cbf7a559-5b09-4b2b-b21e-24e809610545",
   "metadata": {},
   "source": [
    "Since the names from the transcripts are all uppercase, we convert our list to uppercase."
   ]
  },
  {
   "cell_type": "code",
   "execution_count": 61,
   "id": "be687576-798f-443e-8164-3e8762abaeff",
   "metadata": {},
   "outputs": [],
   "source": [
    "candidate_list=[candidate.upper() for candidate in candidate_list]"
   ]
  },
  {
   "cell_type": "markdown",
   "id": "f9f4044c-5f6f-42a9-8b7e-f3b46a75c2de",
   "metadata": {},
   "source": [
    "We are looking for mispellings of names, as such, we ignore the names we know are spelt correctly. We also include times, years and an occurence of (CNN)."
   ]
  },
  {
   "cell_type": "code",
   "execution_count": 74,
   "id": "3280b28b-36e3-438d-8063-42bfca996ced",
   "metadata": {},
   "outputs": [],
   "source": [
    "ignore_set = set(candidate_list).union(set(['7','8','9','10','11','1980','1986','(CNN)']))"
   ]
  },
  {
   "cell_type": "markdown",
   "id": "9b4595f3-defa-4fdc-8187-6cc2af05b9d8",
   "metadata": {},
   "source": [
    "The set of values we are considering imputing is the difference between the unique speakers and our ignore_set."
   ]
  },
  {
   "cell_type": "code",
   "execution_count": 76,
   "id": "ab6e9dec-0199-4a76-af7e-750a526b8072",
   "metadata": {},
   "outputs": [],
   "source": [
    "impute_set = set(debate_df['speaker'].unique()) - ignore_set"
   ]
  },
  {
   "cell_type": "code",
   "execution_count": 77,
   "id": "0f687abb-5a83-4869-b702-ff26dddf3d72",
   "metadata": {},
   "outputs": [],
   "source": [
    "def lev_dist_fast(str1,str2):\n",
    "    \"\"\"This is an implementation of Levenshtein distance, the distance between two strings is the minimal number of\n",
    "    insertions, deletions and substitutions required to go from one string to the other.\n",
    "    \"\"\"\n",
    "    #initialize a dataframe with characters of the strings on the axes and an extra empty row/column index\n",
    "    dist_data = pd.DataFrame(index=list(' '+str1), columns = list(' '+str2))  \n",
    "    dist_data.fillna(0, inplace=True) #Fill the na values with zero.\n",
    "    #print(dist_data) #used to check that the code ran properly\n",
    "    \n",
    "    #record the lengths of our strings for use below.\n",
    "    n=len(str2)\n",
    "    m=len(str1)\n",
    "    \n",
    "    #Initialize the first column of the dataframe, the indices are 1 to m+1 since [0,0] is already 0\n",
    "    for i in range(1, m+1):\n",
    "        dist_data.iloc[i,0] = i\n",
    "    \n",
    "    #Initialize the first row of the dataframe similarly.\n",
    "    for j in range(1, n+1):\n",
    "        dist_data.iloc[0,j] = j\n",
    "    \n",
    "    #Loop over the entries of the dataframe\n",
    "    for j in range(1, n+1): #top to bottom\n",
    "        for i in range(1, m+1): # but first left to right\n",
    "            \n",
    "            #If the characters of the string are the same, it costs nothing to substitute\n",
    "            if str1[i-1] == str2[j-1]: #due to extra padding, indices are offset by 1.\n",
    "                substitutionCost = 0\n",
    "            else:\n",
    "                substitutionCost = 1 #if the strings aren't the same it costs 1 to substitute\n",
    "            \n",
    "            dist_data.iloc[i, j] = min(dist_data.iloc[i-1][j] +1, #deletion\n",
    "                                       dist_data.iloc[i, j-1] +1, #insertion\n",
    "                                       dist_data.iloc[i-1,j-1]+substitutionCost) #substitution\n",
    "            \n",
    "    #print(dist_data) #if you want to see the resulting dataframe, uncomment this print statement.   \n",
    "    return dist_data.iloc[-1,-1] \n",
    "#The dictionary computes the Levenstein distance between subwords str1[:i] str2[:j], we are only interested in \n",
    "#the distance between str1 and str2 as a whole, the last entry of our dataframe."
   ]
  },
  {
   "cell_type": "code",
   "execution_count": 79,
   "id": "447fe86b-1d92-41f3-9cbb-3134cba8be68",
   "metadata": {},
   "outputs": [
    {
     "name": "stdout",
     "output_type": "stream",
     "text": [
      "('[*]CROWLEY', 'CROWLEY') 3\n",
      "('[*]SCHIEFFER', 'SCHIEFFER') 3\n",
      "('MR.FORD', 'FORD') 3\n",
      "('KONDRACKE', 'MONDALE') 4\n",
      "('OTIS', 'BUSH') 4\n",
      "('JOHNSON', 'CLINTON') 4\n",
      "('OREGONIAN', 'REAGAN') 5\n",
      "('OBAM', 'OBAMA') 1\n",
      "('ROMNEHY', 'ROMNEY') 1\n",
      "('SM1TH', 'SMITH') 1\n",
      "('REAGAV', 'REAGAN') 1\n"
     ]
    }
   ],
   "source": [
    "speaker_score_dict={}\n",
    "vetted_set = set(candidate_list) #this is the set of correctly spelled names.\n",
    "\n",
    "for speaker in impute_set:\n",
    "    distance=20 #initialize the distance to be larger than the length of any of the names\n",
    "    best_candidate='' #initialize best candidate\n",
    "    for candidate in vetted_set:\n",
    "        new_dist=lev_dist_fast(speaker,candidate) #compare speakers with correctly spelled names.\n",
    "        \n",
    "        #the best candidate for who the speaker is should be the word of minimal distance.\n",
    "        if(new_dist<distance):\n",
    "            distance=new_dist\n",
    "            best_candidate=candidate\n",
    "            \n",
    "    #at this point, we have a best_candidate for who the speaker is\n",
    "    #append this to a dictionary with key the distance from the speaker\n",
    "    if(distance in speaker_score_dict.keys()):\n",
    "        speaker_score_dict[distance].append((speaker, best_candidate)) #If the speaker's distance is already in the dictionary, add the pair of speakers to the dictionary's list.\n",
    "    else:\n",
    "        speaker_score_dict[distance]=[]\n",
    "        speaker_score_dict[distance].append((speaker, best_candidate)) #Otherwise initialize an empty list and add the speaker, candidate pair.\n",
    "        \n",
    "#We're not done yet, the following simple sanity check helps a lot!        \n",
    "\n",
    "final_dict={} #initialize our final dictionary\n",
    "for i in speaker_score_dict.keys(): #Loop over our earlier dictionary\n",
    "    \n",
    "    #Check if the speaker only occurred in debates where their candidate identity also occurred.\n",
    "    #We are assuming few typos and that mispelled names occur with the correct name in the same transcript.\n",
    "    \n",
    "    for pair in speaker_score_dict[i]: \n",
    "        typo_loc = debate_df[debate_df['speaker']==pair[0]].temp.unique()\n",
    "        fix_loc = debate_df[debate_df['speaker']==pair[1]].temp.unique()\n",
    "        if(set(typo_loc).issubset(set(fix_loc))): #the occurances of the typo only happen when the candidate name is also in the transcript.\n",
    "            print(pair,i) #we print the pair together with their distance for a final eyeballing.\n",
    "            \n",
    "            #our final dictionary is any pair not filtered out by this sanity check.\n",
    "            final_dict[pair[0]]=pair[1]"
   ]
  },
  {
   "cell_type": "markdown",
   "id": "7793f1db-c287-4a04-8edf-7569d0d51538",
   "metadata": {},
   "source": [
    "From here, it is pretty claer which of these names are typos and which are simply two names which happen to share some letters. The following names were reporters at these debates\n",
    "\n",
    "Kondracke, (Pamela) Johnson, and Dube are all journalists. Oregonian was the title of Hilliard, a reporter for the paper, when he first asked a question.\n",
    "\n",
    "Note: While these names cannot distinguish between Hillary and Bill Clinton nor George Bush and George H. W. Bush, these names being imputed to the classes Republican, Democrat, and Other, mean the distinction shouldn't matter. Another minor note is that Ross Perot, while he ran as an independent, will be classified as a Republican for the purposes of our algorithm as he was a right-leaning candidate.\n",
    "\n",
    "Anyways, we delete the names which were correct from our dictionary and update Oregonian to Hilliard."
   ]
  },
  {
   "cell_type": "code",
   "execution_count": 80,
   "id": "96279fd7-f40f-41f1-8edb-f5c5dce04241",
   "metadata": {},
   "outputs": [
    {
     "data": {
      "text/plain": [
       "{'[*]CROWLEY': 'CROWLEY',\n",
       " '[*]SCHIEFFER': 'SCHIEFFER',\n",
       " 'MR.FORD': 'FORD',\n",
       " 'OTIS': 'BUSH',\n",
       " 'OREGONIAN': 'HILLIARD',\n",
       " 'OBAM': 'OBAMA',\n",
       " 'ROMNEHY': 'ROMNEY',\n",
       " 'SM1TH': 'SMITH',\n",
       " 'REAGAV': 'REAGAN'}"
      ]
     },
     "execution_count": 80,
     "metadata": {},
     "output_type": "execute_result"
    }
   ],
   "source": [
    "del final_dict['KONDRACKE']\n",
    "del final_dict['JOHNSON']\n",
    "final_dict['OREGONIAN']='HILLIARD'\n",
    "final_dict"
   ]
  },
  {
   "cell_type": "markdown",
   "id": "3cd61617-7d05-4c38-85f9-02820bd30d65",
   "metadata": {},
   "source": [
    "In sum, there were 8 typos which we picked up from our algorithm. Since this is in a dictionary, we can simply call a .replace on the raw data to update all the names."
   ]
  },
  {
   "cell_type": "code",
   "execution_count": 82,
   "id": "ac42213c-31eb-4a45-b5ca-f37f9cfaf6f0",
   "metadata": {},
   "outputs": [],
   "source": [
    "cleaned_speakers = debate_df.replace(final_dict)"
   ]
  },
  {
   "cell_type": "markdown",
   "id": "f41eebd4-d2cd-404f-82e6-b6670de8a1fb",
   "metadata": {},
   "source": [
    "However, we are not done yet. At least two anomalies remain. The NaN speaker needs to be updated to 'CLINTON'. Additionally, there was a speaker named W who needs to be identified."
   ]
  },
  {
   "cell_type": "code",
   "execution_count": 94,
   "id": "501425a7-e8b3-4e29-895a-1b234a23ec2e",
   "metadata": {},
   "outputs": [
    {
     "data": {
      "text/html": [
       "<div>\n",
       "<style scoped>\n",
       "    .dataframe tbody tr th:only-of-type {\n",
       "        vertical-align: middle;\n",
       "    }\n",
       "\n",
       "    .dataframe tbody tr th {\n",
       "        vertical-align: top;\n",
       "    }\n",
       "\n",
       "    .dataframe thead th {\n",
       "        text-align: right;\n",
       "    }\n",
       "</style>\n",
       "<table border=\"1\" class=\"dataframe\">\n",
       "  <thead>\n",
       "    <tr style=\"text-align: right;\">\n",
       "      <th></th>\n",
       "      <th>speaker</th>\n",
       "      <th>text</th>\n",
       "      <th>temp</th>\n",
       "    </tr>\n",
       "  </thead>\n",
       "  <tbody>\n",
       "    <tr>\n",
       "      <th>7810</th>\n",
       "      <td>W</td>\n",
       "      <td>Senator Quayle, all of us in our lifetime enc...</td>\n",
       "      <td>33</td>\n",
       "    </tr>\n",
       "  </tbody>\n",
       "</table>\n",
       "</div>"
      ],
      "text/plain": [
       "     speaker                                               text  temp\n",
       "7810       W   Senator Quayle, all of us in our lifetime enc...    33"
      ]
     },
     "execution_count": 94,
     "metadata": {},
     "output_type": "execute_result"
    }
   ],
   "source": [
    "cleaned_speakers[cleaned_speakers['speaker']=='W']"
   ]
  },
  {
   "cell_type": "markdown",
   "id": "82708cb0-2ebb-4580-b294-63ecb7f24e20",
   "metadata": {},
   "source": [
    "This quote from W makes clear that they are likely a reporter of some sort. Checking the speakers in debate 33 yields."
   ]
  },
  {
   "cell_type": "code",
   "execution_count": 95,
   "id": "175f5ea3-b4ce-4d9d-b2e9-e312203a53f0",
   "metadata": {},
   "outputs": [
    {
     "data": {
      "text/plain": [
       "array(['WOODRUFF', 'QUAYLE', 'BENTSEN', 'MARGOLIS', 'BROKAW', '1986',\n",
       "       'HUME', 'W'], dtype=object)"
      ]
     },
     "execution_count": 95,
     "metadata": {},
     "output_type": "execute_result"
    }
   ],
   "source": [
    "cleaned_speakers[cleaned_speakers['temp']==33].speaker.unique()"
   ]
  },
  {
   "cell_type": "markdown",
   "id": "37036507-5832-4f7b-a3e9-8442ae9db4bf",
   "metadata": {},
   "source": [
    "So, W is likely WOODRUFF and we impute this below."
   ]
  },
  {
   "cell_type": "code",
   "execution_count": 96,
   "id": "a512b018-87ca-4eb5-935e-49405eb0240f",
   "metadata": {},
   "outputs": [],
   "source": [
    "cleaned_speakers.at[7810, \"speaker\"] = 'WOODRUFF'"
   ]
  },
  {
   "cell_type": "markdown",
   "id": "0561c0a5-d4c5-487a-b9f8-618d174cf1e8",
   "metadata": {},
   "source": [
    "We check who is \"CNN\" in the speaker column. We can see that Susan Rook said the quote so we replace \"CNN\" with \"ROOK\""
   ]
  },
  {
   "cell_type": "code",
   "execution_count": 99,
   "id": "fc48ccec-02fb-453f-91a7-7264842ac72e",
   "metadata": {},
   "outputs": [
    {
     "data": {
      "text/html": [
       "<div>\n",
       "<style scoped>\n",
       "    .dataframe tbody tr th:only-of-type {\n",
       "        vertical-align: middle;\n",
       "    }\n",
       "\n",
       "    .dataframe tbody tr th {\n",
       "        vertical-align: top;\n",
       "    }\n",
       "\n",
       "    .dataframe thead th {\n",
       "        text-align: right;\n",
       "    }\n",
       "</style>\n",
       "<table border=\"1\" class=\"dataframe\">\n",
       "  <thead>\n",
       "    <tr style=\"text-align: right;\">\n",
       "      <th></th>\n",
       "      <th>speaker</th>\n",
       "      <th>text</th>\n",
       "      <th>temp</th>\n",
       "    </tr>\n",
       "  </thead>\n",
       "  <tbody>\n",
       "    <tr>\n",
       "      <th>6686</th>\n",
       "      <td>(CNN)</td>\n",
       "      <td>Mr. Perot, you’ve talked about going to Washi...</td>\n",
       "      <td>26</td>\n",
       "    </tr>\n",
       "  </tbody>\n",
       "</table>\n",
       "</div>"
      ],
      "text/plain": [
       "     speaker                                               text  temp\n",
       "6686   (CNN)   Mr. Perot, you’ve talked about going to Washi...    26"
      ]
     },
     "execution_count": 99,
     "metadata": {},
     "output_type": "execute_result"
    }
   ],
   "source": [
    "cleaned_speakers[cleaned_speakers['speaker']=='(CNN)']"
   ]
  },
  {
   "cell_type": "code",
   "execution_count": 102,
   "id": "68f437f5-e728-47b3-b1fc-38e8fcd0c889",
   "metadata": {},
   "outputs": [],
   "source": [
    "cleaned_speakers.at[6686, \"speaker\"] = 'ROOK'"
   ]
  },
  {
   "cell_type": "code",
   "execution_count": 107,
   "id": "4b85f90e-703e-4e9d-b9ab-eaa51aa6d16a",
   "metadata": {},
   "outputs": [
    {
     "data": {
      "text/html": [
       "<div>\n",
       "<style scoped>\n",
       "    .dataframe tbody tr th:only-of-type {\n",
       "        vertical-align: middle;\n",
       "    }\n",
       "\n",
       "    .dataframe tbody tr th {\n",
       "        vertical-align: top;\n",
       "    }\n",
       "\n",
       "    .dataframe thead th {\n",
       "        text-align: right;\n",
       "    }\n",
       "</style>\n",
       "<table border=\"1\" class=\"dataframe\">\n",
       "  <thead>\n",
       "    <tr style=\"text-align: right;\">\n",
       "      <th></th>\n",
       "      <th>speaker</th>\n",
       "      <th>text</th>\n",
       "      <th>temp</th>\n",
       "    </tr>\n",
       "  </thead>\n",
       "  <tbody>\n",
       "    <tr>\n",
       "      <th>3385</th>\n",
       "      <td>MODERATOR[*]RADDATZ</td>\n",
       "      <td>Good evening, and welcome to the first and on...</td>\n",
       "      <td>9</td>\n",
       "    </tr>\n",
       "  </tbody>\n",
       "</table>\n",
       "</div>"
      ],
      "text/plain": [
       "                  speaker                                               text  \\\n",
       "3385  MODERATOR[*]RADDATZ   Good evening, and welcome to the first and on...   \n",
       "\n",
       "      temp  \n",
       "3385     9  "
      ]
     },
     "execution_count": 107,
     "metadata": {},
     "output_type": "execute_result"
    }
   ],
   "source": [
    "cleaned_speakers[cleaned_speakers['speaker']=='MODERATOR[*]RADDATZ']"
   ]
  },
  {
   "cell_type": "code",
   "execution_count": 108,
   "id": "54083659-beb4-4587-a92b-180f3ff52980",
   "metadata": {},
   "outputs": [],
   "source": [
    "cleaned_speakers.at[3385, \"speaker\"] = 'RADDATZ'"
   ]
  },
  {
   "cell_type": "code",
   "execution_count": 110,
   "id": "0c3254e4-6fa1-4b2e-902c-a85d8ef75d09",
   "metadata": {},
   "outputs": [
    {
     "data": {
      "text/html": [
       "<div>\n",
       "<style scoped>\n",
       "    .dataframe tbody tr th:only-of-type {\n",
       "        vertical-align: middle;\n",
       "    }\n",
       "\n",
       "    .dataframe tbody tr th {\n",
       "        vertical-align: top;\n",
       "    }\n",
       "\n",
       "    .dataframe thead th {\n",
       "        text-align: right;\n",
       "    }\n",
       "</style>\n",
       "<table border=\"1\" class=\"dataframe\">\n",
       "  <thead>\n",
       "    <tr style=\"text-align: right;\">\n",
       "      <th></th>\n",
       "      <th>speaker</th>\n",
       "      <th>text</th>\n",
       "      <th>temp</th>\n",
       "    </tr>\n",
       "  </thead>\n",
       "  <tbody>\n",
       "    <tr>\n",
       "      <th>7692</th>\n",
       "      <td>1986</td>\n",
       "      <td>six million working poor families got off the...</td>\n",
       "      <td>33</td>\n",
       "    </tr>\n",
       "  </tbody>\n",
       "</table>\n",
       "</div>"
      ],
      "text/plain": [
       "     speaker                                               text  temp\n",
       "7692    1986   six million working poor families got off the...    33"
      ]
     },
     "execution_count": 110,
     "metadata": {},
     "output_type": "execute_result"
    }
   ],
   "source": [
    "cleaned_speakers[cleaned_speakers['speaker']=='1986']"
   ]
  },
  {
   "cell_type": "markdown",
   "id": "afc9e480-9437-49df-99d1-6d7289b8b41b",
   "metadata": {},
   "source": [
    "---\n",
    "### Replacing 'temp' Column with Debate Date"
   ]
  },
  {
   "cell_type": "code",
   "execution_count": 118,
   "id": "1030ab8c-7da3-49a3-8c8e-4b4eb948182b",
   "metadata": {},
   "outputs": [],
   "source": [
    "dates = [(href).split('/', 6)[6] for href in list(df[\"url\"])]\n",
    "\n",
    "dates2 = [' '.join((date).split('-', 5)[0:3]) for date in dates]\n",
    "\n",
    "dates3 = [date.title() for date in dates2]\n",
    "\n",
    "d = dict()\n",
    "for x in range(0,47):\n",
    "    d[x]=dates3[x]"
   ]
  },
  {
   "cell_type": "code",
   "execution_count": 120,
   "id": "261b0a31-50e6-4645-86d6-134aae625b4b",
   "metadata": {},
   "outputs": [],
   "source": [
    "d[0] = \"September 29 2020\"\n",
    "d[11] = \"September 26 2008\"\n",
    "d[12] = \"October 2 2008\""
   ]
  },
  {
   "cell_type": "code",
   "execution_count": 121,
   "id": "dbeb0cb5-7f9c-4bd9-8d52-b354753f5ae5",
   "metadata": {},
   "outputs": [],
   "source": [
    "cleaned_speakers['date'] = cleaned_speakers['temp'].map(d)"
   ]
  },
  {
   "cell_type": "code",
   "execution_count": 123,
   "id": "9f714af8-7c7a-4d34-ae0f-b5f4b940ff02",
   "metadata": {},
   "outputs": [],
   "source": [
    "#running more than once doesnt work\n",
    "cleaned_speakers.drop(columns=\"temp\", inplace=True)"
   ]
  },
  {
   "cell_type": "markdown",
   "id": "9b53512d-1183-456f-900b-ff3c60d21f38",
   "metadata": {},
   "source": [
    "### Creating a party column\n",
    "Mapping was done outside python so we'll read in the data"
   ]
  },
  {
   "cell_type": "code",
   "execution_count": 131,
   "id": "8f6c0d86-140d-4540-aead-caed3d9024f0",
   "metadata": {},
   "outputs": [],
   "source": [
    "temp = pd.read_csv(\"../Data/Project 4 speaker map - cleaned_debate.csv\")"
   ]
  },
  {
   "cell_type": "code",
   "execution_count": 133,
   "id": "196c5fe9-7246-486c-8da1-48209a0fc348",
   "metadata": {},
   "outputs": [],
   "source": [
    "cleaned_speakers[\"party\"] = temp[\"Speaker_Map\"]"
   ]
  },
  {
   "cell_type": "markdown",
   "id": "473cba1f-cb50-47eb-933d-1c91c9397dd9",
   "metadata": {},
   "source": [
    "In this case, the NaN values are Moderators"
   ]
  },
  {
   "cell_type": "code",
   "execution_count": 134,
   "id": "d923ca0c-aaeb-4859-ab60-533b1dc78237",
   "metadata": {},
   "outputs": [],
   "source": [
    "cleaned_speakers[\"party\"].fillna(\"Moderator\", inplace = True)"
   ]
  },
  {
   "cell_type": "code",
   "execution_count": 135,
   "id": "483e204d-a5a3-468a-967a-97901cdbdaed",
   "metadata": {},
   "outputs": [
    {
     "data": {
      "text/html": [
       "<div>\n",
       "<style scoped>\n",
       "    .dataframe tbody tr th:only-of-type {\n",
       "        vertical-align: middle;\n",
       "    }\n",
       "\n",
       "    .dataframe tbody tr th {\n",
       "        vertical-align: top;\n",
       "    }\n",
       "\n",
       "    .dataframe thead th {\n",
       "        text-align: right;\n",
       "    }\n",
       "</style>\n",
       "<table border=\"1\" class=\"dataframe\">\n",
       "  <thead>\n",
       "    <tr style=\"text-align: right;\">\n",
       "      <th></th>\n",
       "      <th>speaker</th>\n",
       "      <th>text</th>\n",
       "      <th>date</th>\n",
       "      <th>party</th>\n",
       "    </tr>\n",
       "  </thead>\n",
       "  <tbody>\n",
       "    <tr>\n",
       "      <th>0</th>\n",
       "      <td>PARTICIPANTS</td>\n",
       "      <td>\\nSenator Kamala Harris (D-CA) and\\nVice Presi...</td>\n",
       "      <td>September 29 2020</td>\n",
       "      <td>Misc</td>\n",
       "    </tr>\n",
       "    <tr>\n",
       "      <th>1</th>\n",
       "      <td>MODERATOR</td>\n",
       "      <td>\\nSusan Page (USA Today),</td>\n",
       "      <td>September 29 2020</td>\n",
       "      <td>Moderator</td>\n",
       "    </tr>\n",
       "    <tr>\n",
       "      <th>2</th>\n",
       "      <td>PAGE</td>\n",
       "      <td>Good evening. From the University of Utah in ...</td>\n",
       "      <td>September 29 2020</td>\n",
       "      <td>Moderator</td>\n",
       "    </tr>\n",
       "    <tr>\n",
       "      <th>3</th>\n",
       "      <td>PENCE</td>\n",
       "      <td>Thank you.,</td>\n",
       "      <td>September 29 2020</td>\n",
       "      <td>Republican</td>\n",
       "    </tr>\n",
       "    <tr>\n",
       "      <th>4</th>\n",
       "      <td>PAGE</td>\n",
       "      <td>Senator Harris and Vice President Pence thank...</td>\n",
       "      <td>September 29 2020</td>\n",
       "      <td>Moderator</td>\n",
       "    </tr>\n",
       "  </tbody>\n",
       "</table>\n",
       "</div>"
      ],
      "text/plain": [
       "        speaker                                               text  \\\n",
       "0  PARTICIPANTS  \\nSenator Kamala Harris (D-CA) and\\nVice Presi...   \n",
       "1     MODERATOR                          \\nSusan Page (USA Today),   \n",
       "2          PAGE   Good evening. From the University of Utah in ...   \n",
       "3         PENCE                                        Thank you.,   \n",
       "4          PAGE   Senator Harris and Vice President Pence thank...   \n",
       "\n",
       "                date       party  \n",
       "0  September 29 2020        Misc  \n",
       "1  September 29 2020   Moderator  \n",
       "2  September 29 2020   Moderator  \n",
       "3  September 29 2020  Republican  \n",
       "4  September 29 2020   Moderator  "
      ]
     },
     "execution_count": 135,
     "metadata": {},
     "output_type": "execute_result"
    }
   ],
   "source": [
    "cleaned_speakers.head()"
   ]
  },
  {
   "cell_type": "markdown",
   "id": "29b32981-1702-44ca-b7af-de19c92503dd",
   "metadata": {},
   "source": [
    "---\n",
    "### Save DF as CSV"
   ]
  },
  {
   "cell_type": "code",
   "execution_count": 136,
   "id": "b061963c-a4cd-49f7-842c-fb34735132a5",
   "metadata": {},
   "outputs": [],
   "source": [
    "#cleaned_speakers.to_csv(\"../Data/debate.csv\", index=False)"
   ]
  }
 ],
 "metadata": {
  "kernelspec": {
   "display_name": "Python 3",
   "language": "python",
   "name": "python3"
  },
  "language_info": {
   "codemirror_mode": {
    "name": "ipython",
    "version": 3
   },
   "file_extension": ".py",
   "mimetype": "text/x-python",
   "name": "python",
   "nbconvert_exporter": "python",
   "pygments_lexer": "ipython3",
   "version": "3.8.8"
  }
 },
 "nbformat": 4,
 "nbformat_minor": 5
}
