{
 "cells": [
  {
   "cell_type": "markdown",
   "id": "9e0904bf-2b04-4bec-9331-51304cfd94cf",
   "metadata": {},
   "source": [
    "# Imports"
   ]
  },
  {
   "cell_type": "code",
   "execution_count": 29,
   "id": "88d7517d-3032-4460-b4e1-b91cb89ed473",
   "metadata": {},
   "outputs": [],
   "source": [
    "import bs4\n",
    "from bs4 import BeautifulSoup\n",
    "import requests\n",
    "\n",
    "import pandas as pd"
   ]
  },
  {
   "cell_type": "markdown",
   "id": "85e97067-f3e3-4e7b-b724-26eb1fd6a88c",
   "metadata": {},
   "source": [
    "------\n",
    "### Webscraping *Debates.org* for Debate Transcripts"
   ]
  },
  {
   "cell_type": "code",
   "execution_count": 4,
   "id": "c937fc10-c424-4554-9855-0fbc08737108",
   "metadata": {},
   "outputs": [],
   "source": [
    "url = \"https://www.debates.org/voter-education/debate-transcripts\""
   ]
  },
  {
   "cell_type": "code",
   "execution_count": 5,
   "id": "8ba0ee7e-1e97-4020-b7cc-42f7ef7d180f",
   "metadata": {},
   "outputs": [],
   "source": [
    "response = requests.get(url)\n",
    "soup = BeautifulSoup(response.content)\n",
    "a = soup.find_all(\"a\", href = True) #gets all urls in page"
   ]
  },
  {
   "cell_type": "code",
   "execution_count": 6,
   "id": "aaa01de8-afe6-41fc-9aa1-64554bce784e",
   "metadata": {},
   "outputs": [],
   "source": [
    "soup_list = list(a)\n",
    "soup_list = [item for item in soup_list if 'Transcript' in item.text] #filters urls to only debate transcripts"
   ]
  },
  {
   "cell_type": "code",
   "execution_count": 7,
   "id": "16fba053-0b4d-4d2e-974f-58bdea3e153b",
   "metadata": {},
   "outputs": [],
   "source": [
    "soup_list = soup_list[1:-2]"
   ]
  },
  {
   "cell_type": "code",
   "execution_count": 8,
   "id": "8099b592-928b-4c53-813b-7758781d97db",
   "metadata": {},
   "outputs": [],
   "source": [
    "href_list = [\"https://www.debates.org/\"+item.get('href') for item in soup_list] #maeks a list of urls to webscrape"
   ]
  },
  {
   "cell_type": "code",
   "execution_count": 9,
   "id": "52dcb7e5-2fbf-4915-819b-f40cf552950f",
   "metadata": {},
   "outputs": [],
   "source": [
    "#gets all debate transcripts, put into dictionary as url:transcript\n",
    "debate_dicts = {}\n",
    "for i in href_list: \n",
    "    response = requests.get(i)\n",
    "    soup = BeautifulSoup(response.content)\n",
    "    p = soup.find_all(\"p\") \n",
    "    debate_dicts[i] = p"
   ]
  },
  {
   "cell_type": "markdown",
   "id": "e0f32e96-659a-4a9a-bd41-eb77d9b1f5cd",
   "metadata": {},
   "source": [
    "-----\n",
    "### Convert Dict to DF Then Save for Future Use"
   ]
  },
  {
   "cell_type": "code",
   "execution_count": 32,
   "id": "e859e62a-90a2-4241-a0c5-1a0146a5ee7d",
   "metadata": {},
   "outputs": [],
   "source": [
    "df = pd.DataFrame(debate_dicts.items(), columns=[\"url\", \"text\"])"
   ]
  },
  {
   "cell_type": "code",
   "execution_count": 34,
   "id": "0c3bcea0-bc98-4c81-82cb-13be94e42fe7",
   "metadata": {},
   "outputs": [],
   "source": [
    "#df.to_csv(\"../Data/df.csv\", index=False)"
   ]
  }
 ],
 "metadata": {
  "kernelspec": {
   "display_name": "Python 3",
   "language": "python",
   "name": "python3"
  },
  "language_info": {
   "codemirror_mode": {
    "name": "ipython",
    "version": 3
   },
   "file_extension": ".py",
   "mimetype": "text/x-python",
   "name": "python",
   "nbconvert_exporter": "python",
   "pygments_lexer": "ipython3",
   "version": "3.8.8"
  }
 },
 "nbformat": 4,
 "nbformat_minor": 5
}
