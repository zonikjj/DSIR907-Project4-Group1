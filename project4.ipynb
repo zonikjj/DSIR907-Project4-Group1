{
 "cells": [
  {
   "cell_type": "code",
   "execution_count": 2,
   "id": "e6782542-83ce-40db-aab2-3f7a9f49ee10",
   "metadata": {},
   "outputs": [],
   "source": [
    "import pandas as pd\n",
    "import numpy as np\n",
    "\n",
    "import bs4\n",
    "from bs4 import BeautifulSoup\n",
    "import requests\n",
    "\n",
    "\n",
    "import re\n",
    "import unicodedata"
   ]
  },
  {
   "cell_type": "code",
   "execution_count": 3,
   "id": "64f99e21-eee7-4161-9e5b-c2d8045b2324",
   "metadata": {},
   "outputs": [],
   "source": [
    "url = \"https://www.debates.org/voter-education/debate-transcripts\""
   ]
  },
  {
   "cell_type": "code",
   "execution_count": 4,
   "id": "e895b2e4-ee2c-4c20-a07b-fa11c459b462",
   "metadata": {},
   "outputs": [],
   "source": [
    "response = requests.get(url)\n",
    "soup = BeautifulSoup(response.content)\n",
    "a = soup.find_all(\"a\", href = True) "
   ]
  },
  {
   "cell_type": "code",
   "execution_count": 5,
   "id": "d0b1b316-46ed-45ca-8b6c-6b79fb47dee0",
   "metadata": {},
   "outputs": [],
   "source": [
    "debates= [{a.text:a[\"href\"]} for a in a]"
   ]
  },
  {
   "cell_type": "code",
   "execution_count": 6,
   "id": "5181336e-3394-4091-8dbf-d2c242e27909",
   "metadata": {},
   "outputs": [],
   "source": [
    "soup_list = list(a)\n",
    "\n",
    "type(soup_list[0].text)\n",
    "\n",
    "soup_list = [item for item in soup_list if 'Transcript' in item.text]"
   ]
  },
  {
   "cell_type": "code",
   "execution_count": 7,
   "id": "ca168dcd-168a-4c1e-84b8-d10a9c7fb2d0",
   "metadata": {},
   "outputs": [],
   "source": [
    "soup_list = soup_list[1:-2]"
   ]
  },
  {
   "cell_type": "code",
   "execution_count": 8,
   "id": "454fa1b5-2dfd-40b6-9cc8-36182db06396",
   "metadata": {},
   "outputs": [
    {
     "data": {
      "text/plain": [
       "<a href=\"/voter-education/debate-transcripts/vice-presidential-debate-at-the-university-of-utah-in-salt-lake-city-utah/\">October 07, 2020 Vice Presidential Debate Transcript</a>"
      ]
     },
     "execution_count": 8,
     "metadata": {},
     "output_type": "execute_result"
    }
   ],
   "source": [
    "soup_list[0]"
   ]
  },
  {
   "cell_type": "code",
   "execution_count": 9,
   "id": "01c272cd-9477-4cd0-bcd2-e436f33943e5",
   "metadata": {},
   "outputs": [],
   "source": [
    "href_list = [\"https://www.debates.org/\"+item.get('href') for item in soup_list]"
   ]
  },
  {
   "cell_type": "code",
   "execution_count": 19,
   "id": "86843227-8ca1-4c02-9ee8-5b99a85f7ee8",
   "metadata": {},
   "outputs": [
    {
     "data": {
      "text/plain": [
       "['https://www.debates.org//voter-education/debate-transcripts/vice-presidential-debate-at-the-university-of-utah-in-salt-lake-city-utah/',\n",
       " 'https://www.debates.org//voter-education/debate-transcripts/october-22-2020-debate-transcript/',\n",
       " 'https://www.debates.org//voter-education/debate-transcripts/september-29-2020-debate-transcript/',\n",
       " 'https://www.debates.org//voter-education/debate-transcripts/october-19-2016-debate-transcript/',\n",
       " 'https://www.debates.org//voter-education/debate-transcripts/october-9-2016-debate-transcript/',\n",
       " 'https://www.debates.org//voter-education/debate-transcripts/october-4-2016-debate-transcript/',\n",
       " 'https://www.debates.org//voter-education/debate-transcripts/september-26-2016-debate-transcript/',\n",
       " 'https://www.debates.org//voter-education/debate-transcripts/october-22-2012-the-third-obama-romney-presidential-debate/',\n",
       " 'https://www.debates.org//voter-education/debate-transcripts/october-16-2012-the-second-obama-romney-presidential-debate/',\n",
       " 'https://www.debates.org//voter-education/debate-transcripts/october-11-2012-the-biden-romney-vice-presidential-debate/',\n",
       " 'https://www.debates.org//voter-education/debate-transcripts/october-3-2012-debate-transcript/',\n",
       " 'https://www.debates.org//voter-education/debate-transcripts/2008-debate-transcript/',\n",
       " 'https://www.debates.org//voter-education/debate-transcripts/2008-debate-transcript-2/',\n",
       " 'https://www.debates.org//voter-education/debate-transcripts/october-7-2008-debate-transcrip/',\n",
       " 'https://www.debates.org//voter-education/debate-transcripts/october-15-2008-debate-transcript/',\n",
       " 'https://www.debates.org//voter-education/debate-transcripts/october-13-2004-debate-transcript/',\n",
       " 'https://www.debates.org//voter-education/debate-transcripts/october-8-2004-debate-transcript/',\n",
       " 'https://www.debates.org//voter-education/debate-transcripts/october-5-2004-transcript/',\n",
       " 'https://www.debates.org//voter-education/debate-transcripts/september-30-2004-debate-transcript/',\n",
       " 'https://www.debates.org//voter-education/debate-transcripts/october-17-2000-debate-transcript/',\n",
       " 'https://www.debates.org//voter-education/debate-transcripts/october-11-2000-debate-transcript/',\n",
       " 'https://www.debates.org//voter-education/debate-transcripts/october-5-2000-debate-transcript/',\n",
       " 'https://www.debates.org//voter-education/debate-transcripts/october-3-2000-transcript/',\n",
       " 'https://www.debates.org//voter-education/debate-transcripts/october-16-1996-debate-transcript/',\n",
       " 'https://www.debates.org//voter-education/debate-transcripts/october-9-1996-debate-transcript/',\n",
       " 'https://www.debates.org//voter-education/debate-transcripts/october-6-1996-debate-transcript/',\n",
       " 'https://www.debates.org//voter-education/debate-transcripts/october-19-1992-debate-transcript/',\n",
       " 'https://www.debates.org//voter-education/debate-transcripts/october-15-1992-first-half-debate-transcript/',\n",
       " 'https://www.debates.org//voter-education/debate-transcripts/october-15-1992-second-half-debate-transcript/',\n",
       " 'https://www.debates.org//voter-education/debate-transcripts/october-13-1992-debate-transcript/',\n",
       " 'https://www.debates.org//voter-education/debate-transcripts/october-11-1992-first-half-debate-transcript/',\n",
       " 'https://www.debates.org//voter-education/debate-transcripts/october-11-1992-second-half-debate-transcript/',\n",
       " 'https://www.debates.org//voter-education/debate-transcripts/october-13-1988-debate-transcript/',\n",
       " 'https://www.debates.org//voter-education/debate-transcripts/october-5-1988-debate-transcripts/',\n",
       " 'https://www.debates.org//voter-education/debate-transcripts/september-25-1988-debate-transcript/',\n",
       " 'https://www.debates.org//voter-education/debate-transcripts/october-21-1984-debate-transcript/',\n",
       " 'https://www.debates.org//voter-education/debate-transcripts/october-11-1984-debate-transcript/',\n",
       " 'https://www.debates.org//voter-education/debate-transcripts/october-7-1984-debate-transcript/',\n",
       " 'https://www.debates.org//voter-education/debate-transcripts/october-28-1980-debate-transcript/',\n",
       " 'https://www.debates.org//voter-education/debate-transcripts/september-21-1980-debate-transcript/',\n",
       " 'https://www.debates.org//voter-education/debate-transcripts/october-22-1976-debate-transcript/',\n",
       " 'https://www.debates.org//voter-education/debate-transcripts/october-6-1976-debate-transcript/',\n",
       " 'https://www.debates.org//voter-education/debate-transcripts/september-23-1976-debate-transcript/',\n",
       " 'https://www.debates.org//voter-education/debate-transcripts/october-21-1960-debate-transcript/',\n",
       " 'https://www.debates.org//voter-education/debate-transcripts/october-13-1960-debate-transcript/',\n",
       " 'https://www.debates.org//voter-education/debate-transcripts/october-7-1960-debate-transcript/',\n",
       " 'https://www.debates.org//voter-education/debate-transcripts/september-26-1960-debate-transcript/']"
      ]
     },
     "execution_count": 19,
     "metadata": {},
     "output_type": "execute_result"
    }
   ],
   "source": [
    "href_list"
   ]
  },
  {
   "cell_type": "code",
   "execution_count": 11,
   "id": "caf00890-16e0-4764-91e3-72ff2442608e",
   "metadata": {},
   "outputs": [],
   "source": [
    "debate_dicts = {}\n",
    "for i in href_list:\n",
    "    response = requests.get(i)\n",
    "    soup = BeautifulSoup(response.content)\n",
    "    p = soup.find_all(\"p\") \n",
    "    debate_dicts[i] = p"
   ]
  },
  {
   "cell_type": "markdown",
   "id": "187252f5-2125-4c41-b912-97d5a58b8c5b",
   "metadata": {},
   "source": [
    "------\n",
    "# Text Cleaner"
   ]
  },
  {
   "cell_type": "code",
   "execution_count": null,
   "id": "8708adaf-cdc4-4a7b-85ee-f5370ca6c3fa",
   "metadata": {},
   "outputs": [],
   "source": []
  },
  {
   "cell_type": "code",
   "execution_count": null,
   "id": "058ad345-2be8-477b-9c60-7b5ef4c79ae8",
   "metadata": {},
   "outputs": [],
   "source": []
  },
  {
   "cell_type": "code",
   "execution_count": 12,
   "id": "814bcbe3-8289-47dc-8d37-b9e193ce41ef",
   "metadata": {},
   "outputs": [],
   "source": [
    "def clean_text(text):\n",
    "    new_text = re.sub('<[^>]+>', '', text)  #Removes HTML tags\n",
    "    return unicodedata.normalize(\"NFKD\", new_text) #Returns the normal form from the Unicode string"
   ]
  },
  {
   "cell_type": "code",
   "execution_count": 13,
   "id": "b454b1b3-89fd-4e39-a7f3-a36bf29fa909",
   "metadata": {},
   "outputs": [],
   "source": [
    "def split_text(text):\n",
    "    split_text = text.split(\":\") #splits every element in list at \" : \"\n",
    "    return [(line).rsplit(' ', 1) for line in split_text] #seperates the last word from every element in list to get speaker name"
   ]
  },
  {
   "cell_type": "code",
   "execution_count": 14,
   "id": "6f6e54ff-d3fb-46eb-9798-daf16ba6958d",
   "metadata": {},
   "outputs": [],
   "source": [
    "def flatten(text):\n",
    "    return [item for sublist in text for item in sublist] #turns a list of lists into a list "
   ]
  },
  {
   "cell_type": "code",
   "execution_count": 15,
   "id": "e2e6ebec-2ed7-429e-81b0-fd4e8e116e31",
   "metadata": {},
   "outputs": [],
   "source": [
    "def to_df(text): #makes a dataframe with speaker in first column and text in the second column\n",
    "    if len(text[33].split()) == 1 : #makes sure speaker index is even. Randomly chose 15\n",
    "        text.pop(0) #removes first element in list\n",
    "    if len(text)%2 == 1: #makes sure list is even\n",
    "        text.pop() #removes last element in list\n",
    "    return pd.DataFrame(np.array(text).reshape(len(text)//2,2), columns = [\"Speaker\", \"Text\"]) #makes a dataframe with 2 columns and (len(list)/2) rows"
   ]
  },
  {
   "cell_type": "code",
   "execution_count": 178,
   "id": "781a54ed-a4aa-4404-b8f4-62b2a2c757cf",
   "metadata": {},
   "outputs": [],
   "source": [
    "def format_df(df):\n",
    "    new_df = pd.DataFrame(columns = [\"Speaker\", \"Text\"]) #creates new df \n",
    "    for i in df.index:\n",
    "        if df[\"Speaker\"].iloc[i] != (df[\"Speaker\"].iloc[i]).upper(): #speakers are in ALLCAPS , so this finds words that aren't all capitalized\n",
    "            if (i != 0): #to prevent errors\n",
    "                text = df[\"Text\"].iloc[i-1]  + \" \" + df[\"Speaker\"].iloc[i] + df[\"Text\"].iloc[i] # connects text from previous line and cuurent line\n",
    "                new_df.at[new_df.index[-1], 'Text'] = text # replaces text from previous line \n",
    "        else :\n",
    "            new_df = new_df.append(df.iloc[[i]])  #no problems with these lines so we append as is\n",
    "    return new_df #returns new dataframe"
   ]
  },
  {
   "cell_type": "code",
   "execution_count": 186,
   "id": "05870c0d-cadb-4e21-959f-e8528db5444f",
   "metadata": {},
   "outputs": [
    {
     "data": {
      "text/html": [
       "<div>\n",
       "<style scoped>\n",
       "    .dataframe tbody tr th:only-of-type {\n",
       "        vertical-align: middle;\n",
       "    }\n",
       "\n",
       "    .dataframe tbody tr th {\n",
       "        vertical-align: top;\n",
       "    }\n",
       "\n",
       "    .dataframe thead th {\n",
       "        text-align: right;\n",
       "    }\n",
       "</style>\n",
       "<table border=\"1\" class=\"dataframe\">\n",
       "  <thead>\n",
       "    <tr style=\"text-align: right;\">\n",
       "      <th></th>\n",
       "      <th>Speaker</th>\n",
       "      <th>Text</th>\n",
       "      <th>Placeholder</th>\n",
       "    </tr>\n",
       "  </thead>\n",
       "  <tbody>\n",
       "    <tr>\n",
       "      <th>0</th>\n",
       "      <td>PARTICIPANTS</td>\n",
       "      <td>\\nSenator Kamala Harris (D-CA) and\\nVice Presi...</td>\n",
       "      <td>0</td>\n",
       "    </tr>\n",
       "    <tr>\n",
       "      <th>1</th>\n",
       "      <td>MODERATOR</td>\n",
       "      <td>\\nSusan Page (USA Today),</td>\n",
       "      <td>0</td>\n",
       "    </tr>\n",
       "    <tr>\n",
       "      <th>2</th>\n",
       "      <td>PAGE</td>\n",
       "      <td>Good evening. From the University of Utah in ...</td>\n",
       "      <td>0</td>\n",
       "    </tr>\n",
       "    <tr>\n",
       "      <th>3</th>\n",
       "      <td>PENCE</td>\n",
       "      <td>Thank you.,</td>\n",
       "      <td>0</td>\n",
       "    </tr>\n",
       "    <tr>\n",
       "      <th>4</th>\n",
       "      <td>PAGE</td>\n",
       "      <td>Senator Harris and Vice President Pence thank...</td>\n",
       "      <td>0</td>\n",
       "    </tr>\n",
       "    <tr>\n",
       "      <th>...</th>\n",
       "      <td>...</td>\n",
       "      <td>...</td>\n",
       "      <td>...</td>\n",
       "    </tr>\n",
       "    <tr>\n",
       "      <th>9498</th>\n",
       "      <td>SM1TH</td>\n",
       "      <td>Three minutes and twenty seconds for each can...</td>\n",
       "      <td>46</td>\n",
       "    </tr>\n",
       "    <tr>\n",
       "      <th>9499</th>\n",
       "      <td>NIXON</td>\n",
       "      <td>Thank you, Mr. Smith. Senator Kennedy. First ...</td>\n",
       "      <td>46</td>\n",
       "    </tr>\n",
       "    <tr>\n",
       "      <th>9501</th>\n",
       "      <td>SMITH</td>\n",
       "      <td>Senator Kennedy, your conclusion., MR.</td>\n",
       "      <td>46</td>\n",
       "    </tr>\n",
       "    <tr>\n",
       "      <th>9502</th>\n",
       "      <td>KENNEDY</td>\n",
       "      <td>as they look at this country and as they look...</td>\n",
       "      <td>46</td>\n",
       "    </tr>\n",
       "    <tr>\n",
       "      <th>9505</th>\n",
       "      <td>SMITH</td>\n",
       "      <td>Thank you very much, gentlemen. This hour has...</td>\n",
       "      <td>46</td>\n",
       "    </tr>\n",
       "  </tbody>\n",
       "</table>\n",
       "<p>9051 rows × 3 columns</p>\n",
       "</div>"
      ],
      "text/plain": [
       "           Speaker                                               Text  \\\n",
       "0     PARTICIPANTS  \\nSenator Kamala Harris (D-CA) and\\nVice Presi...   \n",
       "1        MODERATOR                          \\nSusan Page (USA Today),   \n",
       "2             PAGE   Good evening. From the University of Utah in ...   \n",
       "3            PENCE                                        Thank you.,   \n",
       "4             PAGE   Senator Harris and Vice President Pence thank...   \n",
       "...            ...                                                ...   \n",
       "9498         SM1TH   Three minutes and twenty seconds for each can...   \n",
       "9499         NIXON   Thank you, Mr. Smith. Senator Kennedy. First ...   \n",
       "9501         SMITH             Senator Kennedy, your conclusion., MR.   \n",
       "9502       KENNEDY   as they look at this country and as they look...   \n",
       "9505         SMITH   Thank you very much, gentlemen. This hour has...   \n",
       "\n",
       "     Placeholder  \n",
       "0              0  \n",
       "1              0  \n",
       "2              0  \n",
       "3              0  \n",
       "4              0  \n",
       "...          ...  \n",
       "9498          46  \n",
       "9499          46  \n",
       "9501          46  \n",
       "9502          46  \n",
       "9505          46  \n",
       "\n",
       "[9051 rows x 3 columns]"
      ]
     },
     "execution_count": 186,
     "metadata": {},
     "output_type": "execute_result"
    }
   ],
   "source": [
    "debate_df = pd.DataFrame(columns=[\"Speaker\", \"Text\", \"Placeholder\"]) \n",
    "final_debate_df = pd.DataFrame(columns=[\"Speaker\", \"Text\", \"Placeholder\"])\n",
    "for i in range(len(debate_dicts)):\n",
    "    debate_text = str(list(debate_dicts.values())[i])   \n",
    "    debate_text = clean_text(debate_text)\n",
    "    debate_text = split_text(debate_text)\n",
    "    debate_text = flatten(debate_text)\n",
    "    temp_df = to_df(debate_text) #some word make its way to the speaker column if it had a colon after it\n",
    "    temp_df[\"Placeholder\"] = i #replace with election year(?)\n",
    "    debate_df = pd.concat([debate_df, temp_df],ignore_index=True)\n",
    "\n",
    "final_debate_df = format_df(debate_df) # removes nonspeakers from Speaker column\n",
    "final_debate_df"
   ]
  },
  {
   "cell_type": "code",
   "execution_count": 187,
   "id": "8c713cf9-d735-4f9d-aff4-17f2480e4960",
   "metadata": {},
   "outputs": [
    {
     "data": {
      "text/html": [
       "<div>\n",
       "<style scoped>\n",
       "    .dataframe tbody tr th:only-of-type {\n",
       "        vertical-align: middle;\n",
       "    }\n",
       "\n",
       "    .dataframe tbody tr th {\n",
       "        vertical-align: top;\n",
       "    }\n",
       "\n",
       "    .dataframe thead th {\n",
       "        text-align: right;\n",
       "    }\n",
       "</style>\n",
       "<table border=\"1\" class=\"dataframe\">\n",
       "  <thead>\n",
       "    <tr style=\"text-align: right;\">\n",
       "      <th></th>\n",
       "      <th>Speaker</th>\n",
       "      <th>Text</th>\n",
       "      <th>Placeholder</th>\n",
       "    </tr>\n",
       "  </thead>\n",
       "  <tbody>\n",
       "    <tr>\n",
       "      <th>0</th>\n",
       "      <td>PARTICIPANTS</td>\n",
       "      <td>\\nSenator Kamala Harris (D-CA) and\\nVice Presi...</td>\n",
       "      <td>0</td>\n",
       "    </tr>\n",
       "    <tr>\n",
       "      <th>1</th>\n",
       "      <td>MODERATOR</td>\n",
       "      <td>\\nSusan Page (USA Today),</td>\n",
       "      <td>0</td>\n",
       "    </tr>\n",
       "    <tr>\n",
       "      <th>2</th>\n",
       "      <td>PAGE</td>\n",
       "      <td>Good evening. From the University of Utah in ...</td>\n",
       "      <td>0</td>\n",
       "    </tr>\n",
       "    <tr>\n",
       "      <th>3</th>\n",
       "      <td>PENCE</td>\n",
       "      <td>Thank you.,</td>\n",
       "      <td>0</td>\n",
       "    </tr>\n",
       "    <tr>\n",
       "      <th>4</th>\n",
       "      <td>PAGE</td>\n",
       "      <td>Senator Harris and Vice President Pence thank...</td>\n",
       "      <td>0</td>\n",
       "    </tr>\n",
       "    <tr>\n",
       "      <th>...</th>\n",
       "      <td>...</td>\n",
       "      <td>...</td>\n",
       "      <td>...</td>\n",
       "    </tr>\n",
       "    <tr>\n",
       "      <th>9498</th>\n",
       "      <td>SM1TH</td>\n",
       "      <td>Three minutes and twenty seconds for each can...</td>\n",
       "      <td>46</td>\n",
       "    </tr>\n",
       "    <tr>\n",
       "      <th>9499</th>\n",
       "      <td>NIXON</td>\n",
       "      <td>Thank you, Mr. Smith. Senator Kennedy. First ...</td>\n",
       "      <td>46</td>\n",
       "    </tr>\n",
       "    <tr>\n",
       "      <th>9501</th>\n",
       "      <td>SMITH</td>\n",
       "      <td>Senator Kennedy, your conclusion., MR.</td>\n",
       "      <td>46</td>\n",
       "    </tr>\n",
       "    <tr>\n",
       "      <th>9502</th>\n",
       "      <td>KENNEDY</td>\n",
       "      <td>as they look at this country and as they look...</td>\n",
       "      <td>46</td>\n",
       "    </tr>\n",
       "    <tr>\n",
       "      <th>9505</th>\n",
       "      <td>SMITH</td>\n",
       "      <td>Thank you very much, gentlemen. This hour has...</td>\n",
       "      <td>46</td>\n",
       "    </tr>\n",
       "  </tbody>\n",
       "</table>\n",
       "<p>9051 rows × 3 columns</p>\n",
       "</div>"
      ],
      "text/plain": [
       "           Speaker                                               Text  \\\n",
       "0     PARTICIPANTS  \\nSenator Kamala Harris (D-CA) and\\nVice Presi...   \n",
       "1        MODERATOR                          \\nSusan Page (USA Today),   \n",
       "2             PAGE   Good evening. From the University of Utah in ...   \n",
       "3            PENCE                                        Thank you.,   \n",
       "4             PAGE   Senator Harris and Vice President Pence thank...   \n",
       "...            ...                                                ...   \n",
       "9498         SM1TH   Three minutes and twenty seconds for each can...   \n",
       "9499         NIXON   Thank you, Mr. Smith. Senator Kennedy. First ...   \n",
       "9501         SMITH             Senator Kennedy, your conclusion., MR.   \n",
       "9502       KENNEDY   as they look at this country and as they look...   \n",
       "9505         SMITH   Thank you very much, gentlemen. This hour has...   \n",
       "\n",
       "     Placeholder  \n",
       "0              0  \n",
       "1              0  \n",
       "2              0  \n",
       "3              0  \n",
       "4              0  \n",
       "...          ...  \n",
       "9498          46  \n",
       "9499          46  \n",
       "9501          46  \n",
       "9502          46  \n",
       "9505          46  \n",
       "\n",
       "[9051 rows x 3 columns]"
      ]
     },
     "execution_count": 187,
     "metadata": {},
     "output_type": "execute_result"
    }
   ],
   "source": [
    "final_debate_df"
   ]
  },
  {
   "cell_type": "code",
   "execution_count": 188,
   "id": "b8c8bc07-ae1c-4926-b54e-9e029cd552e2",
   "metadata": {},
   "outputs": [],
   "source": [
    "final_debate_df.to_csv('cleaned_debate.csv', index=False)"
   ]
  },
  {
   "cell_type": "code",
   "execution_count": null,
   "id": "dc42dd47-3357-4d66-aeb9-b1d0b28a59ff",
   "metadata": {},
   "outputs": [],
   "source": []
  }
 ],
 "metadata": {
  "kernelspec": {
   "display_name": "Python 3",
   "language": "python",
   "name": "python3"
  },
  "language_info": {
   "codemirror_mode": {
    "name": "ipython",
    "version": 3
   },
   "file_extension": ".py",
   "mimetype": "text/x-python",
   "name": "python",
   "nbconvert_exporter": "python",
   "pygments_lexer": "ipython3",
   "version": "3.8.8"
  }
 },
 "nbformat": 4,
 "nbformat_minor": 5
}
