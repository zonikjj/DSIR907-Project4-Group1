{
 "cells": [
  {
   "cell_type": "code",
   "execution_count": 2,
   "id": "e6782542-83ce-40db-aab2-3f7a9f49ee10",
   "metadata": {},
   "outputs": [],
   "source": [
    "import pandas as pd\n",
    "import numpy as np\n",
    "\n",
    "import bs4\n",
    "from bs4 import BeautifulSoup\n",
    "import requests\n",
    "\n",
    "\n",
    "import re\n",
    "import unicodedata"
   ]
  },
  {
   "cell_type": "code",
   "execution_count": 3,
   "id": "64f99e21-eee7-4161-9e5b-c2d8045b2324",
   "metadata": {},
   "outputs": [],
   "source": [
    "url = \"https://www.debates.org/voter-education/debate-transcripts\""
   ]
  },
  {
   "cell_type": "code",
   "execution_count": 4,
   "id": "e895b2e4-ee2c-4c20-a07b-fa11c459b462",
   "metadata": {},
   "outputs": [],
   "source": [
    "response = requests.get(url)\n",
    "soup = BeautifulSoup(response.content)\n",
    "a = soup.find_all(\"a\", href = True) "
   ]
  },
  {
   "cell_type": "code",
   "execution_count": 6,
   "id": "5181336e-3394-4091-8dbf-d2c242e27909",
   "metadata": {},
   "outputs": [],
   "source": [
    "soup_list = list(a)\n",
    "\n",
    "type(soup_list[0].text)\n",
    "\n",
    "soup_list = [item for item in soup_list if 'Transcript' in item.text]"
   ]
  },
  {
   "cell_type": "code",
   "execution_count": 7,
   "id": "ca168dcd-168a-4c1e-84b8-d10a9c7fb2d0",
   "metadata": {},
   "outputs": [],
   "source": [
    "soup_list = soup_list[1:-2]"
   ]
  },
  {
   "cell_type": "code",
   "execution_count": 8,
   "id": "454fa1b5-2dfd-40b6-9cc8-36182db06396",
   "metadata": {},
   "outputs": [
    {
     "data": {
      "text/plain": [
       "<a href=\"/voter-education/debate-transcripts/vice-presidential-debate-at-the-university-of-utah-in-salt-lake-city-utah/\">October 07, 2020 Vice Presidential Debate Transcript</a>"
      ]
     },
     "execution_count": 8,
     "metadata": {},
     "output_type": "execute_result"
    }
   ],
   "source": [
    "soup_list[0]"
   ]
  },
  {
   "cell_type": "code",
   "execution_count": 9,
   "id": "01c272cd-9477-4cd0-bcd2-e436f33943e5",
   "metadata": {},
   "outputs": [],
   "source": [
    "href_list = [\"https://www.debates.org/\"+item.get('href') for item in soup_list]"
   ]
  },
  {
   "cell_type": "code",
   "execution_count": 275,
   "id": "86843227-8ca1-4c02-9ee8-5b99a85f7ee8",
   "metadata": {},
   "outputs": [
    {
     "data": {
      "text/plain": [
       "['https://www.debates.org//voter-education/debate-transcripts/october-22-2020-debate-transcript/',\n",
       " 'https://www.debates.org//voter-education/debate-transcripts/september-29-2020-debate-transcript/',\n",
       " 'https://www.debates.org//voter-education/debate-transcripts/october-19-2016-debate-transcript/',\n",
       " 'https://www.debates.org//voter-education/debate-transcripts/october-9-2016-debate-transcript/']"
      ]
     },
     "execution_count": 275,
     "metadata": {},
     "output_type": "execute_result"
    }
   ],
   "source": [
    "href_list[1:5]"
   ]
  },
  {
   "cell_type": "code",
   "execution_count": 11,
   "id": "caf00890-16e0-4764-91e3-72ff2442608e",
   "metadata": {},
   "outputs": [],
   "source": [
    "debate_dicts = {}\n",
    "for i in href_list:\n",
    "    response = requests.get(i)\n",
    "    soup = BeautifulSoup(response.content)\n",
    "    p = soup.find_all(\"p\") \n",
    "    debate_dicts[i] = p"
   ]
  },
  {
   "cell_type": "markdown",
   "id": "187252f5-2125-4c41-b912-97d5a58b8c5b",
   "metadata": {},
   "source": [
    "------\n",
    "# Text Cleaner"
   ]
  },
  {
   "cell_type": "code",
   "execution_count": 12,
   "id": "814bcbe3-8289-47dc-8d37-b9e193ce41ef",
   "metadata": {},
   "outputs": [],
   "source": [
    "def clean_text(text):\n",
    "    new_text = re.sub('<[^>]+>', '', text)  #Removes HTML tags\n",
    "    return unicodedata.normalize(\"NFKD\", new_text) #Returns the normal form from the Unicode string"
   ]
  },
  {
   "cell_type": "code",
   "execution_count": 13,
   "id": "b454b1b3-89fd-4e39-a7f3-a36bf29fa909",
   "metadata": {},
   "outputs": [],
   "source": [
    "def split_text(text):\n",
    "    split_text = text.split(\":\") #splits every element in list at \" : \"\n",
    "    return [(line).rsplit(' ', 1) for line in split_text] #seperates the last word from every element in list to get speaker name"
   ]
  },
  {
   "cell_type": "code",
   "execution_count": 14,
   "id": "6f6e54ff-d3fb-46eb-9798-daf16ba6958d",
   "metadata": {},
   "outputs": [],
   "source": [
    "def flatten(text):\n",
    "    return [item for sublist in text for item in sublist] #turns a list of lists into a list "
   ]
  },
  {
   "cell_type": "code",
   "execution_count": 15,
   "id": "e2e6ebec-2ed7-429e-81b0-fd4e8e116e31",
   "metadata": {},
   "outputs": [],
   "source": [
    "def to_df(text): #makes a dataframe with speaker in first column and text in the second column\n",
    "    if len(text[33].split()) == 1 : #makes sure speaker index is even. Randomly chose 33\n",
    "        text.pop(0) #removes first element in list\n",
    "    if len(text)%2 == 1: #makes sure list is even\n",
    "        text.pop() #removes last element in list\n",
    "    return pd.DataFrame(np.array(text).reshape(len(text)//2,2), columns = [\"Speaker\", \"Text\"]) #makes a dataframe with 2 columns and (len(list)/2) rows"
   ]
  },
  {
   "cell_type": "code",
   "execution_count": 178,
   "id": "781a54ed-a4aa-4404-b8f4-62b2a2c757cf",
   "metadata": {},
   "outputs": [],
   "source": [
    "def format_df(df):\n",
    "    new_df = pd.DataFrame(columns = [\"Speaker\", \"Text\"]) #creates new df \n",
    "    for i in df.index:\n",
    "        if df[\"Speaker\"].iloc[i] != (df[\"Speaker\"].iloc[i]).upper(): #speakers are in ALLCAPS , so this finds words that aren't all capitalized\n",
    "            if (i != 0): #to prevent errors\n",
    "                text = df[\"Text\"].iloc[i-1]  + \" \" + df[\"Speaker\"].iloc[i] + df[\"Text\"].iloc[i] # connects text from previous line and cuurent line\n",
    "                new_df.at[new_df.index[-1], 'Text'] = text # replaces text from previous line \n",
    "        else :\n",
    "            new_df = new_df.append(df.iloc[[i]])  #no problems with these lines so we append as is\n",
    "    return new_df #returns new dataframe"
   ]
  },
  {
   "cell_type": "code",
   "execution_count": 269,
   "id": "ed6d53bd-f752-41e4-b79f-372a2e31bf41",
   "metadata": {},
   "outputs": [],
   "source": [
    "debate_df = pd.DataFrame(columns=[\"Speaker\", \"Text\", \"Placeholder\"]) \n",
    "final_debate_df = pd.DataFrame(columns=[\"Speaker\", \"Text\", \"Placeholder\"])\n",
    "for i in range(len(debate_dicts)):\n",
    "    debate_text = str(list(debate_dicts.values())[i])   \n",
    "    debate_text = clean_text(debate_text)\n",
    "    debate_text = split_text(debate_text)\n",
    "    debate_text = flatten(debate_text)\n",
    "    temp_df = to_df(debate_text) #some words make its way to the speaker column if it had a colon after it\n",
    "    temp_df[\"Placeholder\"] = i #replace with election year(?)\n",
    "    debate_df = pd.concat([debate_df, temp_df],ignore_index=True)\n",
    "\n",
    "final_debate_df = format_df(debate_df) # removes nonspeakers from Speaker column\n",
    "final_debate_df.reset_index(drop = True, inplace=True)"
   ]
  },
  {
   "cell_type": "code",
   "execution_count": 188,
   "id": "b8c8bc07-ae1c-4926-b54e-9e029cd552e2",
   "metadata": {},
   "outputs": [],
   "source": [
    "#uncomment to run line\n",
    "#final_debate_df.to_csv('cleaned_debate.csv', index=False)"
   ]
  },
  {
   "cell_type": "markdown",
   "id": "2139a4af-2841-40d9-bd26-fa13bbe4d7ef",
   "metadata": {},
   "source": [
    "------\n",
    "## Inserting Date Column"
   ]
  },
  {
   "cell_type": "code",
   "execution_count": 270,
   "id": "7498065a-bc11-4de9-9c95-37abbbf660a8",
   "metadata": {
    "tags": []
   },
   "outputs": [],
   "source": [
    "dates = [(href).split('/', 6)[6] for href in href_list]\n",
    "\n",
    "dates2 = [' '.join((date).split('-', 5)[0:3]) for date in dates]\n",
    "\n",
    "dates3 = [date.title() for date in dates2]\n",
    "\n",
    "d = dict()\n",
    "for x in range(0,47):\n",
    "    d[x]=dates3[x]"
   ]
  },
  {
   "cell_type": "code",
   "execution_count": 271,
   "id": "b7ddb24c-2f38-47e3-85d1-750db4495b37",
   "metadata": {},
   "outputs": [],
   "source": [
    "d[0] = \"September 29 2020\"\n",
    "d[11] = \"September 26 2008\"\n",
    "d[12] = \"October 2 2008\""
   ]
  },
  {
   "cell_type": "code",
   "execution_count": 272,
   "id": "2f05e680-076c-421c-9abc-ccef0adbe11d",
   "metadata": {
    "tags": []
   },
   "outputs": [],
   "source": [
    "final_debate_df['Date'] = debate_df['Placeholder'].map(d)"
   ]
  },
  {
   "cell_type": "code",
   "execution_count": 273,
   "id": "f618b0d2-8f51-4955-9e60-93c65b1ccad8",
   "metadata": {
    "tags": []
   },
   "outputs": [],
   "source": [
    "#running more than once doesnt work\n",
    "final_debate_df.drop(columns=\"Placeholder\", inplace=True)"
   ]
  },
  {
   "cell_type": "code",
   "execution_count": 274,
   "id": "724b9028-a556-4f49-974d-44fe232404df",
   "metadata": {},
   "outputs": [
    {
     "data": {
      "text/html": [
       "<div>\n",
       "<style scoped>\n",
       "    .dataframe tbody tr th:only-of-type {\n",
       "        vertical-align: middle;\n",
       "    }\n",
       "\n",
       "    .dataframe tbody tr th {\n",
       "        vertical-align: top;\n",
       "    }\n",
       "\n",
       "    .dataframe thead th {\n",
       "        text-align: right;\n",
       "    }\n",
       "</style>\n",
       "<table border=\"1\" class=\"dataframe\">\n",
       "  <thead>\n",
       "    <tr style=\"text-align: right;\">\n",
       "      <th></th>\n",
       "      <th>Speaker</th>\n",
       "      <th>Text</th>\n",
       "      <th>Date</th>\n",
       "    </tr>\n",
       "  </thead>\n",
       "  <tbody>\n",
       "    <tr>\n",
       "      <th>0</th>\n",
       "      <td>PARTICIPANTS</td>\n",
       "      <td>\\nSenator Kamala Harris (D-CA) and\\nVice Presi...</td>\n",
       "      <td>September 29 2020</td>\n",
       "    </tr>\n",
       "    <tr>\n",
       "      <th>1</th>\n",
       "      <td>MODERATOR</td>\n",
       "      <td>\\nSusan Page (USA Today),</td>\n",
       "      <td>September 29 2020</td>\n",
       "    </tr>\n",
       "    <tr>\n",
       "      <th>2</th>\n",
       "      <td>PAGE</td>\n",
       "      <td>Good evening. From the University of Utah in ...</td>\n",
       "      <td>September 29 2020</td>\n",
       "    </tr>\n",
       "    <tr>\n",
       "      <th>3</th>\n",
       "      <td>PENCE</td>\n",
       "      <td>Thank you.,</td>\n",
       "      <td>September 29 2020</td>\n",
       "    </tr>\n",
       "    <tr>\n",
       "      <th>4</th>\n",
       "      <td>PAGE</td>\n",
       "      <td>Senator Harris and Vice President Pence thank...</td>\n",
       "      <td>September 29 2020</td>\n",
       "    </tr>\n",
       "    <tr>\n",
       "      <th>...</th>\n",
       "      <td>...</td>\n",
       "      <td>...</td>\n",
       "      <td>...</td>\n",
       "    </tr>\n",
       "    <tr>\n",
       "      <th>9046</th>\n",
       "      <td>SM1TH</td>\n",
       "      <td>Three minutes and twenty seconds for each can...</td>\n",
       "      <td>October 6 1976</td>\n",
       "    </tr>\n",
       "    <tr>\n",
       "      <th>9047</th>\n",
       "      <td>NIXON</td>\n",
       "      <td>Thank you, Mr. Smith. Senator Kennedy. First ...</td>\n",
       "      <td>October 6 1976</td>\n",
       "    </tr>\n",
       "    <tr>\n",
       "      <th>9048</th>\n",
       "      <td>SMITH</td>\n",
       "      <td>Senator Kennedy, your conclusion., MR.</td>\n",
       "      <td>October 6 1976</td>\n",
       "    </tr>\n",
       "    <tr>\n",
       "      <th>9049</th>\n",
       "      <td>KENNEDY</td>\n",
       "      <td>as they look at this country and as they look...</td>\n",
       "      <td>October 6 1976</td>\n",
       "    </tr>\n",
       "    <tr>\n",
       "      <th>9050</th>\n",
       "      <td>SMITH</td>\n",
       "      <td>Thank you very much, gentlemen. This hour has...</td>\n",
       "      <td>October 6 1976</td>\n",
       "    </tr>\n",
       "  </tbody>\n",
       "</table>\n",
       "<p>9051 rows × 3 columns</p>\n",
       "</div>"
      ],
      "text/plain": [
       "           Speaker                                               Text  \\\n",
       "0     PARTICIPANTS  \\nSenator Kamala Harris (D-CA) and\\nVice Presi...   \n",
       "1        MODERATOR                          \\nSusan Page (USA Today),   \n",
       "2             PAGE   Good evening. From the University of Utah in ...   \n",
       "3            PENCE                                        Thank you.,   \n",
       "4             PAGE   Senator Harris and Vice President Pence thank...   \n",
       "...            ...                                                ...   \n",
       "9046         SM1TH   Three minutes and twenty seconds for each can...   \n",
       "9047         NIXON   Thank you, Mr. Smith. Senator Kennedy. First ...   \n",
       "9048         SMITH             Senator Kennedy, your conclusion., MR.   \n",
       "9049       KENNEDY   as they look at this country and as they look...   \n",
       "9050         SMITH   Thank you very much, gentlemen. This hour has...   \n",
       "\n",
       "                   Date  \n",
       "0     September 29 2020  \n",
       "1     September 29 2020  \n",
       "2     September 29 2020  \n",
       "3     September 29 2020  \n",
       "4     September 29 2020  \n",
       "...                 ...  \n",
       "9046     October 6 1976  \n",
       "9047     October 6 1976  \n",
       "9048     October 6 1976  \n",
       "9049     October 6 1976  \n",
       "9050     October 6 1976  \n",
       "\n",
       "[9051 rows x 3 columns]"
      ]
     },
     "execution_count": 274,
     "metadata": {},
     "output_type": "execute_result"
    }
   ],
   "source": [
    "final_debate_df"
   ]
  }
 ],
 "metadata": {
  "kernelspec": {
   "display_name": "Python 3",
   "language": "python",
   "name": "python3"
  },
  "language_info": {
   "codemirror_mode": {
    "name": "ipython",
    "version": 3
   },
   "file_extension": ".py",
   "mimetype": "text/x-python",
   "name": "python",
   "nbconvert_exporter": "python",
   "pygments_lexer": "ipython3",
   "version": "3.8.8"
  }
 },
 "nbformat": 4,
 "nbformat_minor": 5
}
