{
 "cells": [
  {
   "cell_type": "code",
   "execution_count": 4,
   "id": "e6782542-83ce-40db-aab2-3f7a9f49ee10",
   "metadata": {},
   "outputs": [],
   "source": [
    "import pandas as pd\n",
    "import numpy as np\n",
    "\n",
    "import bs4\n",
    "from bs4 import BeautifulSoup\n",
    "import requests\n"
   ]
  },
  {
   "cell_type": "code",
   "execution_count": 6,
   "id": "64f99e21-eee7-4161-9e5b-c2d8045b2324",
   "metadata": {},
   "outputs": [],
   "source": [
    "url = \"https://www.debates.org/voter-education/debate-transcripts\""
   ]
  },
  {
   "cell_type": "code",
   "execution_count": 7,
   "id": "e895b2e4-ee2c-4c20-a07b-fa11c459b462",
   "metadata": {},
   "outputs": [],
   "source": [
    "response = requests.get(url)\n",
    "soup = BeautifulSoup(response.content)\n",
    "a = soup.find_all(\"a\", href = True) "
   ]
  },
  {
   "cell_type": "code",
   "execution_count": 9,
   "id": "d0b1b316-46ed-45ca-8b6c-6b79fb47dee0",
   "metadata": {},
   "outputs": [],
   "source": [
    "debates= [{a.text:a[\"href\"]} for a in a]"
   ]
  },
  {
   "cell_type": "code",
   "execution_count": 47,
   "id": "5181336e-3394-4091-8dbf-d2c242e27909",
   "metadata": {},
   "outputs": [],
   "source": [
    "soup_list = list(a)\n",
    "\n",
    "type(soup_list[0].text)\n",
    "\n",
    "soup_list = [item for item in soup_list if 'Transcript' in item.text]"
   ]
  },
  {
   "cell_type": "code",
   "execution_count": 48,
   "id": "ca168dcd-168a-4c1e-84b8-d10a9c7fb2d0",
   "metadata": {},
   "outputs": [],
   "source": [
    "soup_list = soup_list[1:-2]"
   ]
  },
  {
   "cell_type": "code",
   "execution_count": 49,
   "id": "454fa1b5-2dfd-40b6-9cc8-36182db06396",
   "metadata": {},
   "outputs": [
    {
     "data": {
      "text/plain": [
       "<a href=\"/voter-education/debate-transcripts/vice-presidential-debate-at-the-university-of-utah-in-salt-lake-city-utah/\">October 07, 2020 Vice Presidential Debate Transcript</a>"
      ]
     },
     "execution_count": 49,
     "metadata": {},
     "output_type": "execute_result"
    }
   ],
   "source": [
    "soup_list[0]"
   ]
  },
  {
   "cell_type": "code",
   "execution_count": 50,
   "id": "01c272cd-9477-4cd0-bcd2-e436f33943e5",
   "metadata": {},
   "outputs": [],
   "source": [
    "href_list = [\"https://www.debates.org/\"+item.get('href') for item in soup_list]"
   ]
  },
  {
   "cell_type": "code",
   "execution_count": 58,
   "id": "86843227-8ca1-4c02-9ee8-5b99a85f7ee8",
   "metadata": {},
   "outputs": [
    {
     "data": {
      "text/plain": [
       "'https://www.debates.org//voter-education/debate-transcripts/vice-presidential-debate-at-the-university-of-utah-in-salt-lake-city-utah/'"
      ]
     },
     "execution_count": 58,
     "metadata": {},
     "output_type": "execute_result"
    }
   ],
   "source": [
    "href_list[0]"
   ]
  },
  {
   "cell_type": "code",
   "execution_count": 52,
   "id": "caf00890-16e0-4764-91e3-72ff2442608e",
   "metadata": {},
   "outputs": [],
   "source": [
    "debate_dicts = {}\n",
    "for i in href_list:\n",
    "    response = requests.get(i)\n",
    "    soup = BeautifulSoup(response.content)\n",
    "    p = soup.find_all(\"p\") \n",
    "    debate_dicts[i] = p"
   ]
  },
  {
   "cell_type": "code",
   "execution_count": null,
   "id": "9c609e6c-ab5d-43ba-a71a-43eabc01997c",
   "metadata": {},
   "outputs": [],
   "source": []
  },
  {
   "cell_type": "code",
   "execution_count": null,
   "id": "1f60b7ca-cf46-44aa-a6a2-e15de4336ed0",
   "metadata": {},
   "outputs": [],
   "source": []
  },
  {
   "cell_type": "code",
   "execution_count": null,
   "id": "f29700b9-e12c-4e07-b917-54881d232937",
   "metadata": {},
   "outputs": [],
   "source": []
  },
  {
   "cell_type": "code",
   "execution_count": null,
   "id": "f69e4742-083d-4924-893c-d02801f6eb25",
   "metadata": {},
   "outputs": [],
   "source": []
  }
 ],
 "metadata": {
  "kernelspec": {
   "display_name": "Python 3",
   "language": "python",
   "name": "python3"
  },
  "language_info": {
   "codemirror_mode": {
    "name": "ipython",
    "version": 3
   },
   "file_extension": ".py",
   "mimetype": "text/x-python",
   "name": "python",
   "nbconvert_exporter": "python",
   "pygments_lexer": "ipython3",
   "version": "3.8.8"
  }
 },
 "nbformat": 4,
 "nbformat_minor": 5
}
